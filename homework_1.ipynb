{
 "cells": [
  {
   "cell_type": "code",
   "execution_count": 55,
   "id": "initial_id",
   "metadata": {
    "collapsed": true,
    "ExecuteTime": {
     "end_time": "2024-03-20T23:20:14.384132Z",
     "start_time": "2024-03-20T23:20:14.362311Z"
    }
   },
   "outputs": [
    {
     "name": "stdout",
     "output_type": "stream",
     "text": [
      "Most Expensive House Details:\n",
      "price      920000\n",
      "area         3857\n",
      "beds            4\n",
      "baths           5\n",
      "garage          3\n",
      "year         1997\n",
      "style           1\n",
      "lotsize     32793\n",
      "ac            YES\n",
      "pool           NO\n",
      "quality      HIGH\n",
      "highway        NO\n",
      "Name: 72, dtype: object\n"
     ]
    }
   ],
   "source": [
    "import pandas as pd\n",
    "\n",
    "# Load CSV\n",
    "df = pd.read_csv('homes.csv')\n",
    "    \n",
    "# change its datatype to object.\n",
    "df['style'] = df['style'].astype(object)\n",
    "    \n",
    "# Find the most expensive house\n",
    "most_expensive = df.loc[df['price'].idxmax()]\n",
    "\n",
    "print(\"Most Expensive House Details:\")\n",
    "print(most_expensive)"
   ]
  },
  {
   "cell_type": "code",
   "outputs": [
    {
     "name": "stdout",
     "output_type": "stream",
     "text": [
      "Most Expensive House with at Least 3 Bedrooms:\n",
      "price      920000\n",
      "area         3857\n",
      "beds            4\n",
      "baths           5\n",
      "garage          3\n",
      "year         1997\n",
      "style           1\n",
      "lotsize     32793\n",
      "ac            YES\n",
      "pool           NO\n",
      "quality      HIGH\n",
      "highway        NO\n",
      "Name: 72, dtype: object\n"
     ]
    }
   ],
   "source": [
    "import pandas as pd\n",
    "\n",
    "# Load CSV\n",
    "df = pd.read_csv('homes.csv')\n",
    "    \n",
    "# change its datatype to object.\n",
    "df['style'] = df['style'].astype(object)\n",
    "    \n",
    "# Find the most expensive house with at least 3 bedrooms\n",
    "filtered_df = df[df['beds'] >= 3]\n",
    "most_expensive_3bd = filtered_df.loc[filtered_df['price'].idxmax()]\n",
    "\n",
    "print(\"Most Expensive House with at Least 3 Bedrooms:\")\n",
    "print(most_expensive_3bd)"
   ],
   "metadata": {
    "collapsed": false,
    "ExecuteTime": {
     "end_time": "2024-03-20T23:20:14.935729Z",
     "start_time": "2024-03-20T23:20:14.925398Z"
    }
   },
   "id": "a945d89cb9138168",
   "execution_count": 56
  },
  {
   "cell_type": "code",
   "outputs": [
    {
     "name": "stdout",
     "output_type": "stream",
     "text": [
      "Least Expensive House with Style 1:\n",
      "    price  area  beds  baths  garage  year style  lotsize  ac pool quality  \\\n",
      "53  84000   980     1      1       1  1951     1    17686  NO   NO     LOW   \n",
      "\n",
      "   highway  \n",
      "53      NO  \n"
     ]
    }
   ],
   "source": [
    "import pandas as pd\n",
    "\n",
    "# Load CSV\n",
    "df = pd.read_csv('homes.csv')\n",
    "    \n",
    "# Convert the 'style' column to a categorical datatype\n",
    "df['style'] = df['style'].astype(object)\n",
    "    \n",
    "# Filter houses with style 1\n",
    "style1_house = df[df['style'] == 1]\n",
    "    \n",
    "# least expensive house among those with style 1\n",
    "least_expensive_style1_house = style1_house.nsmallest(1, 'price')\n",
    "\n",
    "print(\"Least Expensive House with Style 1:\")\n",
    "print(least_expensive_style1_house)"
   ],
   "metadata": {
    "collapsed": false,
    "ExecuteTime": {
     "end_time": "2024-03-20T23:20:15.398319Z",
     "start_time": "2024-03-20T23:20:15.379903Z"
    }
   },
   "id": "d7e075b70aa7c61b",
   "execution_count": 57
  },
  {
   "cell_type": "code",
   "outputs": [
    {
     "name": "stdout",
     "output_type": "stream",
     "text": [
      "Number of Houses By Style:\n",
      "style\n",
      "1     214\n",
      "7     136\n",
      "3      64\n",
      "2      58\n",
      "5      18\n",
      "6      18\n",
      "4      11\n",
      "10      1\n",
      "9       1\n",
      "11      1\n",
      "Name: count, dtype: int64\n"
     ]
    }
   ],
   "source": [
    "import pandas as pd\n",
    "\n",
    "# Load CSV\n",
    "df = pd.read_csv('homes.csv')\n",
    "    \n",
    "# Convert the 'style' column to a categorical datatype\n",
    "df['style'] = df['style'].astype(object)\n",
    "    \n",
    "# Count the number of houses by style\n",
    "houses_by_style = df['style'].value_counts()\n",
    "\n",
    "print(\"Number of Houses By Style:\")\n",
    "print(houses_by_style)"
   ],
   "metadata": {
    "collapsed": false,
    "ExecuteTime": {
     "end_time": "2024-03-20T23:21:43.545673Z",
     "start_time": "2024-03-20T23:21:43.533439Z"
    }
   },
   "id": "d9e1ed95a511c4a7",
   "execution_count": 64
  },
  {
   "cell_type": "code",
   "outputs": [
    {
     "name": "stdout",
     "output_type": "stream",
     "text": [
      "Median Price of Houses By Style:\n",
      "style\n",
      "1     191500.0\n",
      "2     210500.0\n",
      "3     236250.0\n",
      "4     171900.0\n",
      "5     209900.0\n",
      "6     263950.0\n",
      "7     337625.0\n",
      "9     399000.0\n",
      "10    549900.0\n",
      "11    159900.0\n",
      "Name: price, dtype: float64\n"
     ]
    }
   ],
   "source": [
    "import pandas as pd\n",
    "\n",
    "# Load CSV\n",
    "df = pd.read_csv('homes.csv')\n",
    "    \n",
    "# Convert the 'style' column to a categorical datatype\n",
    "df['style'] = df['style'].astype(object)\n",
    "    \n",
    "# Group the data by style: median price for each group\n",
    "median_price_by_style = df.groupby('style')['price'].median()\n",
    "\n",
    "print(\"Median Price of Houses By Style:\")\n",
    "print(median_price_by_style)"
   ],
   "metadata": {
    "collapsed": false,
    "ExecuteTime": {
     "end_time": "2024-03-20T23:22:10.764637Z",
     "start_time": "2024-03-20T23:22:10.751928Z"
    }
   },
   "id": "b565c8e0daf39a76",
   "execution_count": 65
  },
  {
   "cell_type": "code",
   "outputs": [
    {
     "name": "stdout",
     "output_type": "stream",
     "text": [
      "Houses with 2 to 4 Bedrooms, Area > 4000 sqft, and Price >= to $350,000:\n",
      "      price  area  beds  baths  garage  year  style  lotsize   ac pool  \\\n",
      "73   855000  4756     4      4       3  1990      7    22215  YES   NO   \n",
      "77   665000  4746     4      4       3  1996      7    23368  YES   NO   \n",
      "80   780000  4419     4      5       7  1987      1    56127  YES   NO   \n",
      "154  395000  4150     4      3       3  1934      7    21778   NO   NO   \n",
      "\n",
      "    quality highway  \n",
      "73     HIGH      NO  \n",
      "77     HIGH      NO  \n",
      "80     HIGH      NO  \n",
      "154  MEDIUM      NO  \n"
     ]
    }
   ],
   "source": [
    "import pandas as pd\n",
    "\n",
    "# Load CSV\n",
    "df = pd.read_csv('homes.csv')\n",
    "    \n",
    "# List houses having 2-4 bedrooms with area GT 4000sq and price GT or = 350k\n",
    "filtered_houses = df[(df['beds'].between(2, 4)) & \n",
    "    (df['area'] > 4000) & \n",
    "    (df['price'] >= 350000)]\n",
    "    \n",
    "print(\"Houses with 2 to 4 Bedrooms, Area > 4000 sqft, and Price >= to $350,000:\")\n",
    "print(filtered_houses)"
   ],
   "metadata": {
    "collapsed": false,
    "ExecuteTime": {
     "end_time": "2024-03-20T23:22:51.886734Z",
     "start_time": "2024-03-20T23:22:51.871739Z"
    }
   },
   "id": "a6a34caad30e4739",
   "execution_count": 66
  },
  {
   "cell_type": "code",
   "outputs": [
    {
     "name": "stdout",
     "output_type": "stream",
     "text": [
      "Average Lot Size of Houses Built After 1970: 24145.65 sqft\n"
     ]
    }
   ],
   "source": [
    "import pandas as pd\n",
    "\n",
    "# Load CSV\n",
    "df = pd.read_csv('homes.csv')\n",
    "    \n",
    "# Filter for houses built after 1970\n",
    "houses_after_1970 = df[df['year'] > 1970]\n",
    "    \n",
    "# Avg lot size of houses built after 1970\n",
    "average_lot_size = houses_after_1970['lotsize'].mean()\n",
    "\n",
    "print(\"Average Lot Size of Houses Built After 1970: {:.2f} sqft\".format(average_lot_size))"
   ],
   "metadata": {
    "collapsed": false,
    "ExecuteTime": {
     "end_time": "2024-03-20T23:20:17.174654Z",
     "start_time": "2024-03-20T23:20:17.167776Z"
    }
   },
   "id": "66fd92b921f66b8a",
   "execution_count": 61
  },
  {
   "cell_type": "code",
   "outputs": [
    {
     "name": "stdout",
     "output_type": "stream",
     "text": [
      "On average, houses with a pool are $79,724.36 more expensive.\n"
     ]
    }
   ],
   "source": [
    "import pandas as pd\n",
    "\n",
    "# Load CSV\n",
    "df = pd.read_csv('homes.csv')\n",
    "    \n",
    "# Avg price of houses with a pool\n",
    "average_price_w_pool = df[df['pool'] == 'YES']['price'].mean()\n",
    "    \n",
    "# Avg price of houses without a pool\n",
    "average_price_without_pool = df[df['pool'] == 'NO']['price'].mean()\n",
    "    \n",
    "# Avg difference in price\n",
    "average_difference = average_price_w_pool - average_price_without_pool\n",
    "\n",
    "print(\"On average, houses with a pool are ${:,.2f} more expensive.\".format(average_difference))"
   ],
   "metadata": {
    "collapsed": false,
    "ExecuteTime": {
     "end_time": "2024-03-20T23:20:17.810082Z",
     "start_time": "2024-03-20T23:20:17.798796Z"
    }
   },
   "id": "caaee89faec9953f",
   "execution_count": 62
  },
  {
   "cell_type": "code",
   "outputs": [
    {
     "name": "stdout",
     "output_type": "stream",
     "text": [
      "Average Area of Houses Built After 1970 is 2639.96 sqft with an average Lot Size of 24145.65 sqft\n"
     ]
    }
   ],
   "source": [
    "import pandas as pd\n",
    "\n",
    "# Load CSV\n",
    "df = pd.read_csv('homes.csv')\n",
    "\n",
    "# Filter for houses built after 1970\n",
    "houses_after_1970 = df[df['year'] > 1970]\n",
    "\n",
    "# Calculate mean average of area and lot size\n",
    "average_area = houses_after_1970['area'].mean().round(2)\n",
    "average_lot = houses_after_1970['lotsize'].mean().round(2)\n",
    "\n",
    "print(\"Average Area of Houses Built After 1970 is {:.2f} sqft with an average Lot Size of {:.2f} sqft\".format(average_area, average_lot))"
   ],
   "metadata": {
    "collapsed": false,
    "ExecuteTime": {
     "end_time": "2024-03-20T23:20:18.247720Z",
     "start_time": "2024-03-20T23:20:18.240950Z"
    }
   },
   "id": "dc1cbea5b60074a7",
   "execution_count": 63
  },
  {
   "cell_type": "code",
   "outputs": [],
   "source": [],
   "metadata": {
    "collapsed": false
   },
   "id": "7e091c102097269b"
  }
 ],
 "metadata": {
  "kernelspec": {
   "display_name": "Python 3",
   "language": "python",
   "name": "python3"
  },
  "language_info": {
   "codemirror_mode": {
    "name": "ipython",
    "version": 2
   },
   "file_extension": ".py",
   "mimetype": "text/x-python",
   "name": "python",
   "nbconvert_exporter": "python",
   "pygments_lexer": "ipython2",
   "version": "2.7.6"
  }
 },
 "nbformat": 4,
 "nbformat_minor": 5
}
