{
 "cells": [
  {
   "cell_type": "code",
   "execution_count": 25,
   "id": "initial_id",
   "metadata": {
    "collapsed": true,
    "ExecuteTime": {
     "end_time": "2024-03-20T22:13:51.561683Z",
     "start_time": "2024-03-20T22:13:51.547896Z"
    }
   },
   "outputs": [
    {
     "name": "stdout",
     "output_type": "stream",
     "text": [
      "Most Expensive House Details:\n",
      "price      920000\n",
      "area         3857\n",
      "beds            4\n",
      "baths           5\n",
      "garage          3\n",
      "year         1997\n",
      "style           1\n",
      "lotsize     32793\n",
      "ac            YES\n",
      "pool           NO\n",
      "quality      HIGH\n",
      "highway        NO\n",
      "Name: 72, dtype: object\n"
     ]
    }
   ],
   "source": [
    "import pandas as pd\n",
    "\n",
    "# Load CSV\n",
    "df = pd.read_csv('homes.csv')\n",
    "    \n",
    "# change its datatype to object.\n",
    "df['style'] = df['style'].astype(object)\n",
    "    \n",
    "# Find the most expensive house\n",
    "most_expensive = df.loc[df['price'].idxmax()]\n",
    "\n",
    "print(\"Most Expensive House Details:\")\n",
    "print(most_expensive)"
   ]
  },
  {
   "cell_type": "code",
   "outputs": [
    {
     "name": "stdout",
     "output_type": "stream",
     "text": [
      "Most Expensive House with at Least 3 Bedrooms:\n",
      "price      920000\n",
      "area         3857\n",
      "beds            4\n",
      "baths           5\n",
      "garage          3\n",
      "year         1997\n",
      "style           1\n",
      "lotsize     32793\n",
      "ac            YES\n",
      "pool           NO\n",
      "quality      HIGH\n",
      "highway        NO\n",
      "Name: 72, dtype: object\n"
     ]
    }
   ],
   "source": [
    "import pandas as pd\n",
    "\n",
    "# Load the data from the CSV file\n",
    "df = pd.read_csv('homes.csv')\n",
    "    \n",
    "# change its datatype to object.\n",
    "df['style'] = df['style'].astype(object)\n",
    "    \n",
    "# search for houses with at least 3 bedrooms\n",
    "filtered_df = df[df['beds'] >= 3]\n",
    "    \n",
    "# Find the most expensive house with at least 3 bedrooms\n",
    "most_expensive_3bd = filtered_df.loc[filtered_df['price'].idxmax()]\n",
    "    \n",
    "# details of the house\n",
    "print(\"Most Expensive House with at Least 3 Bedrooms:\")\n",
    "print(most_expensive_3bd)"
   ],
   "metadata": {
    "collapsed": false,
    "ExecuteTime": {
     "end_time": "2024-03-20T22:18:07.235855Z",
     "start_time": "2024-03-20T22:18:07.216820Z"
    }
   },
   "id": "a945d89cb9138168",
   "execution_count": 27
  },
  {
   "cell_type": "code",
   "outputs": [
    {
     "name": "stdout",
     "output_type": "stream",
     "text": [
      "Least Expensive House with Style 1:\n",
      "    price  area  beds  baths  garage  year style  lotsize  ac pool quality  \\\n",
      "53  84000   980     1      1       1  1951     1    17686  NO   NO     LOW   \n",
      "\n",
      "   highway  \n",
      "53      NO  \n"
     ]
    }
   ],
   "source": [
    "import pandas as pd\n",
    "\n",
    "# Load the data from the CSV file\n",
    "df = pd.read_csv('homes.csv')\n",
    "    \n",
    "# Convert the 'style' column to a categorical datatype\n",
    "df['style'] = df['style'].astype(object)\n",
    "    \n",
    "# Filter the dataset for houses with style 1\n",
    "style1_houses = df[df['style'] == 1]\n",
    "    \n",
    "# Find the least expensive house among those with style 1\n",
    "least_expensive_style1_house = style1_houses.nsmallest(1, 'price')\n",
    "    \n",
    "# Print the details of the least expensive house with style 1\n",
    "print(\"Least Expensive House with Style 1:\")\n",
    "print(least_expensive_style1_house)"
   ],
   "metadata": {
    "collapsed": false,
    "ExecuteTime": {
     "end_time": "2024-03-20T22:22:25.610969Z",
     "start_time": "2024-03-20T22:22:25.574461Z"
    }
   },
   "id": "d7e075b70aa7c61b",
   "execution_count": 28
  },
  {
   "cell_type": "code",
   "outputs": [
    {
     "name": "stdout",
     "output_type": "stream",
     "text": [
      "Number of Houses from Each Style:\n",
      "style\n",
      "1     214\n",
      "7     136\n",
      "3      64\n",
      "2      58\n",
      "5      18\n",
      "6      18\n",
      "4      11\n",
      "10      1\n",
      "9       1\n",
      "11      1\n",
      "Name: count, dtype: int64\n"
     ]
    }
   ],
   "source": [
    "import pandas as pd\n",
    "\n",
    "# Load the data from the CSV file\n",
    "df = pd.read_csv('homes.csv')\n",
    "    \n",
    "# Convert the 'style' column to a categorical datatype\n",
    "df['style'] = df['style'].astype(object)\n",
    "    \n",
    "# Count the number of houses from each style\n",
    "houses_per_style = df['style'].value_counts()\n",
    "    \n",
    "# Print the counts of houses per style\n",
    "print(\"Number of Houses from Each Style:\")\n",
    "print(houses_per_style)"
   ],
   "metadata": {
    "collapsed": false,
    "ExecuteTime": {
     "end_time": "2024-03-20T22:22:59.035408Z",
     "start_time": "2024-03-20T22:22:58.994612Z"
    }
   },
   "id": "d9e1ed95a511c4a7",
   "execution_count": 29
  },
  {
   "cell_type": "code",
   "outputs": [
    {
     "name": "stdout",
     "output_type": "stream",
     "text": [
      "Median Price of Houses from Each Style:\n",
      "style\n",
      "1     191500.0\n",
      "2     210500.0\n",
      "3     236250.0\n",
      "4     171900.0\n",
      "5     209900.0\n",
      "6     263950.0\n",
      "7     337625.0\n",
      "9     399000.0\n",
      "10    549900.0\n",
      "11    159900.0\n",
      "Name: price, dtype: float64\n"
     ]
    }
   ],
   "source": [
    "import pandas as pd\n",
    "\n",
    "# Load the data from the CSV file\n",
    "df = pd.read_csv('homes.csv')\n",
    "    \n",
    "# Convert the 'style' column to a categorical datatype\n",
    "df['style'] = df['style'].astype(object)\n",
    "    \n",
    "# Group the data by style and calculate the median price for each group\n",
    "median_price_per_style = df.groupby('style')['price'].median()\n",
    "    \n",
    "# Print the median price of houses from each style\n",
    "print(\"Median Price of Houses from Each Style:\")\n",
    "print(median_price_per_style)"
   ],
   "metadata": {
    "collapsed": false,
    "ExecuteTime": {
     "end_time": "2024-03-20T22:23:26.192753Z",
     "start_time": "2024-03-20T22:23:26.171430Z"
    }
   },
   "id": "b565c8e0daf39a76",
   "execution_count": 30
  },
  {
   "cell_type": "code",
   "outputs": [
    {
     "name": "stdout",
     "output_type": "stream",
     "text": [
      "Houses with Two to Four Bedrooms, Area > 4000 sqft, and Price >= $350,000:\n",
      "      price  area  beds  baths  garage  year  style  lotsize   ac pool  \\\n",
      "73   855000  4756     4      4       3  1990      7    22215  YES   NO   \n",
      "77   665000  4746     4      4       3  1996      7    23368  YES   NO   \n",
      "80   780000  4419     4      5       7  1987      1    56127  YES   NO   \n",
      "154  395000  4150     4      3       3  1934      7    21778   NO   NO   \n",
      "\n",
      "    quality highway  \n",
      "73     HIGH      NO  \n",
      "77     HIGH      NO  \n",
      "80     HIGH      NO  \n",
      "154  MEDIUM      NO  \n"
     ]
    }
   ],
   "source": [
    "import pandas as pd\n",
    "\n",
    "# Load the data from the CSV file\n",
    "df = pd.read_csv('homes.csv')\n",
    "    \n",
    "# Filter the dataset based on the given conditions\n",
    "filtered_houses = df[(df['beds'].between(2, 4)) & \n",
    "    (df['area'] > 4000) & \n",
    "    (df['price'] >= 350000)]\n",
    "    \n",
    "# Print the filtered houses and their attributes\n",
    "print(\"Houses with Two to Four Bedrooms, Area > 4000 sqft, and Price >= $350,000:\")\n",
    "print(filtered_houses)"
   ],
   "metadata": {
    "collapsed": false,
    "ExecuteTime": {
     "end_time": "2024-03-20T22:24:11.594062Z",
     "start_time": "2024-03-20T22:24:11.577185Z"
    }
   },
   "id": "a6a34caad30e4739",
   "execution_count": 31
  },
  {
   "cell_type": "code",
   "outputs": [
    {
     "name": "stdout",
     "output_type": "stream",
     "text": [
      "Average Lot Size of Houses Built After 1970: 24145.651785714286\n"
     ]
    }
   ],
   "source": [
    "import pandas as pd\n",
    "\n",
    "# Load the data from the CSV file\n",
    "df = pd.read_csv('homes.csv')\n",
    "    \n",
    "# Filter the dataset for houses built after 1970\n",
    "houses_after_1970 = df[df['year'] > 1970]\n",
    "    \n",
    "# Calculate the average lot size of houses built after 1970\n",
    "average_lot_size = houses_after_1970['lotsize'].mean()\n",
    "    \n",
    "# Print the average lot size\n",
    "print(\"Average Lot Size of Houses Built After 1970:\", average_lot_size)"
   ],
   "metadata": {
    "collapsed": false,
    "ExecuteTime": {
     "end_time": "2024-03-20T22:24:42.355009Z",
     "start_time": "2024-03-20T22:24:42.338791Z"
    }
   },
   "id": "66fd92b921f66b8a",
   "execution_count": 32
  },
  {
   "cell_type": "code",
   "outputs": [
    {
     "name": "stdout",
     "output_type": "stream",
     "text": [
      "On average, houses with a pool are $79,724.36 more expensive.\n"
     ]
    }
   ],
   "source": [
    "import pandas as pd\n",
    "\n",
    "# Load the data from the CSV file\n",
    "df = pd.read_csv('homes.csv')\n",
    "    \n",
    "# Calculate the average price of houses with a pool\n",
    "average_price_with_pool = df[df['pool'] == 'YES']['price'].mean()\n",
    "    \n",
    "# Calculate the average price of houses without a pool\n",
    "average_price_without_pool = df[df['pool'] == 'NO']['price'].mean()\n",
    "    \n",
    "# Calculate the average difference in price\n",
    "average_price_difference = average_price_with_pool - average_price_without_pool\n",
    "    \n",
    "# Print the average difference in price\n",
    "print(\"On average, houses with a pool are ${:,.2f} more expensive.\".format(average_price_difference))"
   ],
   "metadata": {
    "collapsed": false,
    "ExecuteTime": {
     "end_time": "2024-03-20T22:25:21.768920Z",
     "start_time": "2024-03-20T22:25:21.755291Z"
    }
   },
   "id": "caaee89faec9953f",
   "execution_count": 33
  },
  {
   "cell_type": "code",
   "outputs": [
    {
     "name": "stdout",
     "output_type": "stream",
     "text": [
      "Average Area of Houses Built After 1970: 2639.964285714286 sqft\n",
      "Average Lot Size of Houses Built After 1970: 24145.651785714286 sqft\n"
     ]
    }
   ],
   "source": [
    "import pandas as pd\n",
    "\n",
    "# Load the data from the CSV file\n",
    "df = pd.read_csv('homes.csv')\n",
    "    \n",
    "# Filter the dataset for houses built after 1970\n",
    "houses_after_1970 = df[df['year'] > 1970]\n",
    "    \n",
    "# Calculate the average area and lot size of houses built after 1970\n",
    "average_area = houses_after_1970['area'].mean()\n",
    "average_lot_size = houses_after_1970['lotsize'].mean()\n",
    "    \n",
    "# Print the results\n",
    "print(\"Average Area of Houses Built After 1970:\", average_area, \"sqft\")\n",
    "print(\"Average Lot Size of Houses Built After 1970:\", average_lot_size, \"sqft\")"
   ],
   "metadata": {
    "collapsed": false,
    "ExecuteTime": {
     "end_time": "2024-03-20T22:26:12.357004Z",
     "start_time": "2024-03-20T22:26:12.347019Z"
    }
   },
   "id": "dc1cbea5b60074a7",
   "execution_count": 34
  },
  {
   "cell_type": "code",
   "outputs": [],
   "source": [],
   "metadata": {
    "collapsed": false
   },
   "id": "7e091c102097269b"
  }
 ],
 "metadata": {
  "kernelspec": {
   "display_name": "Python 3",
   "language": "python",
   "name": "python3"
  },
  "language_info": {
   "codemirror_mode": {
    "name": "ipython",
    "version": 2
   },
   "file_extension": ".py",
   "mimetype": "text/x-python",
   "name": "python",
   "nbconvert_exporter": "python",
   "pygments_lexer": "ipython2",
   "version": "2.7.6"
  }
 },
 "nbformat": 4,
 "nbformat_minor": 5
}
