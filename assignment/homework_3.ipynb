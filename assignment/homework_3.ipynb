{
 "cells": [
  {
   "cell_type": "markdown",
   "id": "742d768223f23e3f",
   "metadata": {
    "collapsed": false
   },
   "source": [
    "#  Melanie Schwartz (sno122)\n",
    "DS 4033\n",
    "Dr. Acosta\n",
    "4/2/2024"
   ]
  },
  {
   "cell_type": "code",
   "execution_count": 215,
   "id": "40dca02ffa3449ec",
   "metadata": {
    "collapsed": false,
    "ExecuteTime": {
     "end_time": "2024-04-05T08:27:28.337544Z",
     "start_time": "2024-04-05T08:27:28.330153Z"
    }
   },
   "outputs": [],
   "source": [
    "# TODO: a)\n",
    "# Libraries for hw3\n",
    "import pandas as pd\n",
    "import statsmodels.formula.api as smf\n",
    "import matplotlib.pyplot as plt"
   ]
  },
  {
   "cell_type": "code",
   "outputs": [],
   "source": [
    "# Load CSV\n",
    "df = pd.read_csv('insurance2.csv')  "
   ],
   "metadata": {
    "collapsed": false,
    "ExecuteTime": {
     "end_time": "2024-04-05T08:27:28.800056Z",
     "start_time": "2024-04-05T08:27:28.781855Z"
    }
   },
   "id": "f5ba5b6f25cfee41",
   "execution_count": 216
  },
  {
   "cell_type": "code",
   "outputs": [],
   "source": [
    "# Define and fit  model\n",
    "model = smf.ols('expenses ~ age + C(sex) + bmi + children\\n'\n",
    "                ' + C(smoker) + C(region)', data=df).fit()"
   ],
   "metadata": {
    "collapsed": false,
    "ExecuteTime": {
     "end_time": "2024-04-05T08:27:29.252368Z",
     "start_time": "2024-04-05T08:27:29.248267Z"
    }
   },
   "id": "d981a9c062f5f004",
   "execution_count": 217
  },
  {
   "cell_type": "code",
   "outputs": [
    {
     "name": "stdout",
     "output_type": "stream",
     "text": [
      "R-squared: 0.7509\n",
      "Adjusted R-squared: 0.7494\n"
     ]
    }
   ],
   "source": [
    "# R-squared and Adjusted R-squared values\n",
    "print(f\"R-squared: {model.rsquared:.4f}\")\n",
    "print(f\"Adjusted R-squared: {model.rsquared_adj:.4f}\")"
   ],
   "metadata": {
    "collapsed": false,
    "ExecuteTime": {
     "end_time": "2024-04-05T08:27:29.694227Z",
     "start_time": "2024-04-05T08:27:29.682977Z"
    }
   },
   "id": "a4ebe6d5615d6ef8",
   "execution_count": 218
  },
  {
   "cell_type": "code",
   "outputs": [
    {
     "name": "stdout",
     "output_type": "stream",
     "text": [
      "\n",
      "Coefficient Model:\n",
      "Intercept                -11941.562461\n",
      "C(sex)[T.male]             -131.352014\n",
      "C(smoker)[T.yes]          23847.476695\n",
      "C(region)[T.northwest]     -352.790096\n",
      "C(region)[T.southeast]    -1035.595701\n",
      "C(region)[T.southwest]     -959.305829\n",
      "age                         256.839171\n",
      "bmi                         339.289863\n",
      "children                    475.688916\n",
      "dtype: float64\n"
     ]
    }
   ],
   "source": [
    "# Coefficients\n",
    "print(\"\\nCoefficient Model:\")\n",
    "print(model.params)"
   ],
   "metadata": {
    "collapsed": false,
    "ExecuteTime": {
     "end_time": "2024-04-05T08:27:30.105797Z",
     "start_time": "2024-04-05T08:27:30.100143Z"
    }
   },
   "id": "48ca1783f1f82ed8",
   "execution_count": 219
  },
  {
   "cell_type": "code",
   "execution_count": 220,
   "id": "f3dc92885ef4cb5d",
   "metadata": {
    "collapsed": false,
    "ExecuteTime": {
     "end_time": "2024-04-05T08:27:30.653658Z",
     "start_time": "2024-04-05T08:27:30.651367Z"
    }
   },
   "outputs": [
    {
     "name": "stdout",
     "output_type": "stream",
     "text": [
      "Child Increase: $475.69\n",
      "Age expense increase: $256.84\n"
     ]
    }
   ],
   "source": [
    "# TODO: b)\n",
    "# Acg increase in expenses \n",
    "increase_per_child = model.params[\"children\"]\n",
    "increase_per_age = model.params[\"age\"]\n",
    "print(f\"Child Increase: ${increase_per_child:.2f}\")\n",
    "print(f\"Age expense increase: ${increase_per_age:.2f}\")"
   ]
  },
  {
   "cell_type": "code",
   "execution_count": 221,
   "id": "3ff694c16bb15798",
   "metadata": {
    "collapsed": false,
    "ExecuteTime": {
     "end_time": "2024-04-05T08:27:31.089982Z",
     "start_time": "2024-04-05T08:27:31.085837Z"
    }
   },
   "outputs": [],
   "source": [
    "# TODO: c)\n",
    "# Create a binary variable BMI_ind\n",
    "df['BMI_ind'] = (df['bmi'] >= 30).astype(int)"
   ]
  },
  {
   "cell_type": "code",
   "outputs": [
    {
     "name": "stdout",
     "output_type": "stream",
     "text": [
      "   age  BMI_ind smoker  BMI_ind_smoker\n",
      "0   19        0    yes               0\n",
      "1   18        1     no               0\n",
      "2   28        1     no               0\n",
      "3   33        0     no               0\n",
      "4   32        0     no               0\n"
     ]
    }
   ],
   "source": [
    "# Create an interaction variable between BMI_ind and smoker\n",
    "# Need to convert smoker to a binary variable \n",
    "df['smoker_yes'] = (df['smoker'] == 'yes').astype(int)\n",
    "df['BMI_ind_smoker'] = df['BMI_ind'] * df['smoker_yes']\n",
    "# \n",
    "\n",
    "print(df[['age', 'BMI_ind', 'smoker', 'BMI_ind_smoker']].head())\n"
   ],
   "metadata": {
    "collapsed": false,
    "ExecuteTime": {
     "end_time": "2024-04-05T08:27:31.610282Z",
     "start_time": "2024-04-05T08:27:31.607244Z"
    }
   },
   "id": "f095fe77c58f9152",
   "execution_count": 222
  },
  {
   "cell_type": "code",
   "execution_count": 223,
   "id": "7449023f9b27e330",
   "metadata": {
    "collapsed": false,
    "ExecuteTime": {
     "end_time": "2024-04-05T08:27:32.066575Z",
     "start_time": "2024-04-05T08:27:32.054956Z"
    }
   },
   "outputs": [],
   "source": [
    "# TODO: d)\n",
    "# New predictors\n",
    "model_new = smf.ols('expenses ~ age + C(sex) + bmi + children\\n'\n",
    "                    ' + C(smoker) + C(region) + BMI_ind\\n'\n",
    "                    ' + BMI_ind_smoker', data=df).fit()"
   ]
  },
  {
   "cell_type": "code",
   "outputs": [],
   "source": [
    "# New Model\n",
    "new_model = {\n",
    "    \"R-squared\": model_new.rsquared,\n",
    "    \"Adjusted R-squared\": model_new.rsquared_adj,\n",
    "    \"Coefficients\": {\n",
    "        \"Intercept\": model_new.params['Intercept'],\n",
    "        \"Sex (Male)\": model_new.params['C(sex)[T.male]'],\n",
    "        \"Smoker (Yes)\": model_new.params['C(smoker)[T.yes]'],\n",
    "        \"Region (Northwest)\": model_new.params['C(region)[T.northwest]'],\n",
    "        \"Region (Southeast)\": model_new.params['C(region)[T.southeast]'],\n",
    "        \"Region (Southwest)\": model_new.params['C(region)[T.southwest]'],\n",
    "        \"Age\": model_new.params['age'],\n",
    "        \"BMI\": model_new.params['bmi'],\n",
    "        \"Children\": model_new.params['children'],\n",
    "        \"BMI_ind\": model_new.params['BMI_ind'],\n",
    "        \"BMI_ind_smoker\": model_new.params['BMI_ind_smoker']\n",
    "    }\n",
    "}"
   ],
   "metadata": {
    "collapsed": false,
    "ExecuteTime": {
     "end_time": "2024-04-05T08:27:32.601406Z",
     "start_time": "2024-04-05T08:27:32.572592Z"
    }
   },
   "id": "b37267a588162f5",
   "execution_count": 224
  },
  {
   "cell_type": "code",
   "outputs": [
    {
     "name": "stdout",
     "output_type": "stream",
     "text": [
      "Model Summary:\n",
      "R-squared: 0.8639\n",
      "Adjusted R-squared: 0.8628\n",
      "Intercept: -4740.6822\n",
      "Sex (Male): -491.1295\n",
      "Smoker (Yes): 13402.2873\n",
      "Region (Northwest): -266.7997\n",
      "Region (Southeast): -824.5730\n",
      "Region (Southwest): -1223.8697\n",
      "Age: 263.2428\n",
      "BMI: 114.8282\n",
      "Children: 520.4738\n",
      "BMI_ind: -863.2546\n",
      "BMI_ind_smoker: 19794.2644\n"
     ]
    }
   ],
   "source": [
    "print(\"Model Summary:\")\n",
    "print(f\"R-squared: {new_model['R-squared']:.4f}\")\n",
    "print(f\"Adjusted R-squared: {new_model['Adjusted R-squared']:.4f}\")\n",
    "for key, value in new_model['Coefficients'].items():\n",
    "    print(f\"{key}: {value:.4f}\")"
   ],
   "metadata": {
    "collapsed": false,
    "ExecuteTime": {
     "end_time": "2024-04-05T08:27:33.004564Z",
     "start_time": "2024-04-05T08:27:33.001382Z"
    }
   },
   "id": "dfd7a8b7f0634f3d",
   "execution_count": 225
  },
  {
   "cell_type": "code",
   "execution_count": 226,
   "id": "1e0d06e21c71ef4",
   "metadata": {
    "collapsed": false,
    "ExecuteTime": {
     "end_time": "2024-04-05T08:27:33.542186Z",
     "start_time": "2024-04-05T08:27:33.533259Z"
    }
   },
   "outputs": [
    {
     "name": "stdout",
     "output_type": "stream",
     "text": [
      "Being a smoker increases on average $13402.29\n",
      "annually vs. a non-smoker.\n"
     ]
    }
   ],
   "source": [
    "# TODO: e)\n",
    "# Additional expense of smokers\n",
    "additional_if_smoker = model_new.params['C(smoker)[T.yes]']\n",
    "print(f\"Being a smoker increases on average ${additional_if_smoker:.2f}\\n\"\n",
    "      f\"annually vs. a non-smoker.\")"
   ]
  },
  {
   "cell_type": "code",
   "execution_count": 227,
   "id": "f366899d3941e669",
   "metadata": {
    "collapsed": false,
    "ExecuteTime": {
     "end_time": "2024-04-05T08:27:33.991466Z",
     "start_time": "2024-04-05T08:27:33.989356Z"
    }
   },
   "outputs": [
    {
     "name": "stdout",
     "output_type": "stream",
     "text": [
      "Obese smokers avg spending: $32333.30\n"
     ]
    }
   ],
   "source": [
    "# TODO: f)\n",
    "# Additional smokers\n",
    "additional_if_smoker = model_new.params['C(smoker)[T.yes]']\n",
    "\n",
    "# Additional expense for obese\n",
    "additional_if_obese = model_new.params['BMI_ind']\n",
    "\n",
    "# Additional expense for interaction between being obese/smoker\n",
    "additional_obese_smoker_expense = model_new.params['BMI_ind_smoker']\n",
    "\n",
    "# Obese smokers compared to non-smokers who are not obese\n",
    "total_additional_expense = (additional_if_smoker\n",
    "                            + additional_if_obese + \n",
    "                            additional_obese_smoker_expense)\n",
    "print(f\"Obese smokers avg spending: ${total_additional_expense:.2f}\")"
   ]
  },
  {
   "cell_type": "code",
   "execution_count": 228,
   "id": "1fbd2583b028db5a",
   "metadata": {
    "collapsed": false,
    "ExecuteTime": {
     "end_time": "2024-04-05T08:27:34.586534Z",
     "start_time": "2024-04-05T08:27:34.560490Z"
    }
   },
   "outputs": [
    {
     "name": "stdout",
     "output_type": "stream",
     "text": [
      "The correlation between actual and predicted\n",
      " expenses is: $0.93\n"
     ]
    }
   ],
   "source": [
    "# TODO: g) \n",
    "# Predicted expenses\n",
    "yhat = model_new.predict(df)\n",
    "\n",
    "# Add the predictions as new column to the DataFrame\n",
    "df['Predicted_Expenses'] = yhat\n",
    "\n",
    "# Calculate the correlation between actual vs predicted\n",
    "correlation = df['expenses'].corr(df['Predicted_Expenses'])\n",
    "print(f\"The correlation between actual and predicted\\n\"\n",
    "      f\" expenses is: ${correlation:.2f}\")"
   ]
  },
  {
   "cell_type": "code",
   "execution_count": 229,
   "id": "76658ec0ee0bc053",
   "metadata": {
    "collapsed": false,
    "ExecuteTime": {
     "end_time": "2024-04-05T08:27:35.294180Z",
     "start_time": "2024-04-05T08:27:35.157170Z"
    }
   },
   "outputs": [
    {
     "data": {
      "text/plain": "<Figure size 1000x600 with 1 Axes>",
      "image/png": "[encoded data removed]"
     },
     "metadata": {},
     "output_type": "display_data"
    }
   ],
   "source": [
    "# TODO: h)\n",
    "# Scatterplot of actual vs. predicted expenses\n",
    "plt.figure(figsize=(10, 6))\n",
    "plt.scatter(df['expenses'], df['Predicted_Expenses'],\n",
    "            color='black', label='Actual vs. Predicted')\n",
    "# 45-degree line\n",
    "plt.plot([df['expenses'].min(), df['expenses'].max()],\n",
    "         [df['expenses'].min(), df['expenses'].max()],\n",
    "         color='red')\n",
    "# Plot labesl\n",
    "plt.xlabel('Actual Expense')\n",
    "plt.ylabel('Predicted Expense')\n",
    "plt.title('Actual vs. Predicted Medical Expenses')\n",
    "plt.legend()\n",
    "plt.grid(True)\n",
    "plt.show()"
   ]
  },
  {
   "cell_type": "code",
   "execution_count": 230,
   "id": "8341dbb019f0eae8",
   "metadata": {
    "collapsed": false,
    "ExecuteTime": {
     "end_time": "2024-04-05T08:27:35.612814Z",
     "start_time": "2024-04-05T08:27:35.610081Z"
    }
   },
   "outputs": [],
   "source": [
    "# TODO: i) \n",
    "# Adjusted DataFrame for prediction including BMI_ind and BMI_ind_smoker\n",
    "predicted = pd.DataFrame({\n",
    "    'age': [30],\n",
    "    'sex': ['male'],\n",
    "    'bmi': [30],  \n",
    "    'children': [2],\n",
    "    'smoker': ['yes'],\n",
    "    'region': ['northeast'],\n",
    "    'BMI_ind': [1], \n",
    "    'smoker_yes': [1]  \n",
    "})"
   ]
  },
  {
   "cell_type": "code",
   "outputs": [],
   "source": [
    "# 'smoker_yes' or 'C(smoker)' \n",
    "predicted['BMI_ind_smoker'] = (predicted['BMI_ind']\n",
    "                               * predicted['smoker_yes'])\n",
    "# Predicted expense\n",
    "predicted_expenses = model_new.predict(predicted)"
   ],
   "metadata": {
    "collapsed": false,
    "ExecuteTime": {
     "end_time": "2024-04-05T08:27:36.272697Z",
     "start_time": "2024-04-05T08:27:36.263199Z"
    }
   },
   "id": "ebd4dd85aa84f8b9",
   "execution_count": 231
  },
  {
   "cell_type": "code",
   "outputs": [
    {
     "name": "stdout",
     "output_type": "stream",
     "text": [
      "Predicted yearly expenses: $39484.57\n"
     ]
    }
   ],
   "source": [
    "print(f\"Predicted yearly expenses: ${predicted_expenses.iloc[0]:.2f}\")"
   ],
   "metadata": {
    "collapsed": false,
    "ExecuteTime": {
     "end_time": "2024-04-05T08:27:36.884929Z",
     "start_time": "2024-04-05T08:27:36.882133Z"
    }
   },
   "id": "b003a5ba6b859b9d",
   "execution_count": 232
  },
  {
   "cell_type": "code",
   "outputs": [],
   "source": [],
   "metadata": {
    "collapsed": false
   },
   "id": "a77d69b96e7eeb8b"
  }
 ],
 "metadata": {
  "kernelspec": {
   "display_name": "Python 3 (ipykernel)",
   "language": "python",
   "name": "python3"
  },
  "language_info": {
   "codemirror_mode": {
    "name": "ipython",
    "version": 3
   },
   "file_extension": ".py",
   "mimetype": "text/x-python",
   "name": "python",
   "nbconvert_exporter": "python",
   "pygments_lexer": "ipython3",
   "version": "3.10.6"
  }
 },
 "nbformat": 4,
 "nbformat_minor": 5
}
