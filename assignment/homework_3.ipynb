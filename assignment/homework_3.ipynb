{
 "cells": [
  {
   "cell_type": "markdown",
   "source": [
    "#  Melanie Schwartz\n",
    "DS 4033\n",
    "Dr. Acosta\n",
    "4/2/2024"
   ],
   "metadata": {
    "collapsed": false
   },
   "id": "742d768223f23e3f"
  },
  {
   "cell_type": "code",
   "outputs": [
    {
     "name": "stdout",
     "output_type": "stream",
     "text": [
      "R-squared: 0.7509\n",
      "Adjusted R-squared: 0.7494\n",
      "\n",
      "Coefficients:\n",
      "Intercept                -11941.562461\n",
      "C(sex)[T.male]             -131.352014\n",
      "C(smoker)[T.yes]          23847.476695\n",
      "C(region)[T.northwest]     -352.790096\n",
      "C(region)[T.southeast]    -1035.595701\n",
      "C(region)[T.southwest]     -959.305829\n",
      "age                         256.839171\n",
      "bmi                         339.289863\n",
      "children                    475.688916\n",
      "dtype: float64\n"
     ]
    }
   ],
   "source": [
    "# TODO: a) (10 pts.) Build a regression model with predictors (age, C(sex), bmi, childen,C(smoker), and, C(region)) to predict annual medical expenses for the patient. Report R-square, adjusted R-squared, and the regression coefficients.\n",
    "import pandas as pd\n",
    "import statsmodels.formula.api as smf\n",
    "\n",
    "# Load CSV\n",
    "df = pd.read_csv('insurance2.csv')  \n",
    "\n",
    "# Define and fit the regression model\n",
    "model = smf.ols('expenses ~ age + C(sex) + bmi + children + C(smoker) + C(region)', data=df).fit()\n",
    "\n",
    "# Print the R-squared and Adjusted R-squared values\n",
    "print(f\"R-squared: {model.rsquared:.4f}\")\n",
    "print(f\"Adjusted R-squared: {model.rsquared_adj:.4f}\")\n",
    "\n",
    "# Print the coefficients\n",
    "print(\"\\nCoefficients:\")\n",
    "print(model.params)"
   ],
   "metadata": {
    "collapsed": false,
    "ExecuteTime": {
     "end_time": "2024-04-03T01:16:50.340677Z",
     "start_time": "2024-04-03T01:16:50.267641Z"
    }
   },
   "id": "40dca02ffa3449ec",
   "execution_count": 2
  },
  {
   "cell_type": "code",
   "outputs": [
    {
     "name": "stdout",
     "output_type": "stream",
     "text": [
      "Each additional child increases annual medical expenses by: $475.69\n",
      "Each additional year of age increases annual medical expenses by: $256.84\n"
     ]
    }
   ],
   "source": [
    "# TODO: b) (10 pts.) On average how much more expensive is each additional children? How much medical expenses increase for each additional year of age?\n",
    "\n",
    "# The average increase in expenses \n",
    "increase_per_child = model.params[\"children\"]\n",
    "increase_per_year_of_age = model.params[\"age\"]\n",
    "\n",
    "print(f\"Each additional child increases annual medical expenses by: ${increase_per_child:.2f}\")\n",
    "print(f\"Each additional year of age increases annual medical expenses by: ${increase_per_year_of_age:.2f}\")"
   ],
   "metadata": {
    "collapsed": false,
    "ExecuteTime": {
     "end_time": "2024-04-03T01:37:19.519269Z",
     "start_time": "2024-04-03T01:37:19.437054Z"
    }
   },
   "id": "f3dc92885ef4cb5d",
   "execution_count": 10
  },
  {
   "cell_type": "code",
   "outputs": [
    {
     "data": {
      "text/plain": "   age     sex   bmi  children smoker     region  expenses  BMI_ind  \\\n0   19  female  27.9         0    yes  southwest  16884.92        0   \n1   18    male  33.8         1     no  southeast   1725.55        1   \n2   28    male  33.0         3     no  southeast   4449.46        1   \n3   33    male  22.7         0     no  northwest  21984.47        0   \n4   32    male  28.9         0     no  northwest   3866.86        0   \n\n   smoker_yes  BMI_ind_smoker  \n0           1               0  \n1           0               0  \n2           0               0  \n3           0               0  \n4           0               0  ",
      "text/html": "<div>\n<style scoped>\n    .dataframe tbody tr th:only-of-type {\n        vertical-align: middle;\n    }\n\n    .dataframe tbody tr th {\n        vertical-align: top;\n    }\n\n    .dataframe thead th {\n        text-align: right;\n    }\n</style>\n<table border=\"1\" class=\"dataframe\">\n  <thead>\n    <tr style=\"text-align: right;\">\n      <th></th>\n      <th>age</th>\n      <th>sex</th>\n      <th>bmi</th>\n      <th>children</th>\n      <th>smoker</th>\n      <th>region</th>\n      <th>expenses</th>\n      <th>BMI_ind</th>\n      <th>smoker_yes</th>\n      <th>BMI_ind_smoker</th>\n    </tr>\n  </thead>\n  <tbody>\n    <tr>\n      <th>0</th>\n      <td>19</td>\n      <td>female</td>\n      <td>27.9</td>\n      <td>0</td>\n      <td>yes</td>\n      <td>southwest</td>\n      <td>16884.92</td>\n      <td>0</td>\n      <td>1</td>\n      <td>0</td>\n    </tr>\n    <tr>\n      <th>1</th>\n      <td>18</td>\n      <td>male</td>\n      <td>33.8</td>\n      <td>1</td>\n      <td>no</td>\n      <td>southeast</td>\n      <td>1725.55</td>\n      <td>1</td>\n      <td>0</td>\n      <td>0</td>\n    </tr>\n    <tr>\n      <th>2</th>\n      <td>28</td>\n      <td>male</td>\n      <td>33.0</td>\n      <td>3</td>\n      <td>no</td>\n      <td>southeast</td>\n      <td>4449.46</td>\n      <td>1</td>\n      <td>0</td>\n      <td>0</td>\n    </tr>\n    <tr>\n      <th>3</th>\n      <td>33</td>\n      <td>male</td>\n      <td>22.7</td>\n      <td>0</td>\n      <td>no</td>\n      <td>northwest</td>\n      <td>21984.47</td>\n      <td>0</td>\n      <td>0</td>\n      <td>0</td>\n    </tr>\n    <tr>\n      <th>4</th>\n      <td>32</td>\n      <td>male</td>\n      <td>28.9</td>\n      <td>0</td>\n      <td>no</td>\n      <td>northwest</td>\n      <td>3866.86</td>\n      <td>0</td>\n      <td>0</td>\n      <td>0</td>\n    </tr>\n  </tbody>\n</table>\n</div>"
     },
     "execution_count": 9,
     "metadata": {},
     "output_type": "execute_result"
    }
   ],
   "source": [
    "#  TODO: c) (10 pts.) As you did in HW2, create a binary variable BMI_ind equal to 1 if the patient BMI is at least 30 (for an obese patient), and equal to 0 (not obese) otherwise. Also, include a variable BMI_ind_smoker for the interaction between BMI_ind and smoker. Display the first five patients.\n",
    "# Create a binary variable BMI_ind\n",
    "df['BMI_ind'] = (df['bmi'] >= 30).astype(int)\n",
    "\n",
    "# Create an interaction variable between BMI_ind and smoker\n",
    "# Need to convert smoker to a binary variable for this purpose\n",
    "df['smoker_yes'] = (df['smoker'] == 'yes').astype(int)\n",
    "df['BMI_ind_smoker'] = df['BMI_ind'] * df['smoker_yes']\n",
    "\n",
    "# Display the first five patients including the new variables\n",
    "df.head()"
   ],
   "metadata": {
    "collapsed": false,
    "ExecuteTime": {
     "end_time": "2024-04-03T01:36:01.372667Z",
     "start_time": "2024-04-03T01:36:01.358718Z"
    }
   },
   "id": "3ff694c16bb15798",
   "execution_count": 9
  },
  {
   "cell_type": "code",
   "outputs": [
    {
     "name": "stdout",
     "output_type": "stream",
     "text": [
      "Model Summary:\n",
      "R-squared: 0.8639\n",
      "Adjusted R-squared: 0.8628\n",
      "Intercept: -4740.6822\n",
      "Sex (Male): -491.1295\n",
      "Smoker (Yes): 13402.2873\n",
      "Region (Northwest): -266.7997\n",
      "Region (Southeast): -824.5730\n",
      "Region (Southwest): -1223.8697\n",
      "Age: 263.2428\n",
      "BMI: 114.8282\n",
      "Children: 520.4738\n",
      "BMI_ind: -863.2546\n",
      "BMI_ind_smoker: 19794.2644\n"
     ]
    }
   ],
   "source": [
    "# TODO: d) (10 pts.) Build a regression model with the original and new predictors. Report R-square, adjusted R- squared, and the regression coefficients.\n",
    "\n",
    "# Original and new predictors\n",
    "model_new = smf.ols('expenses ~ age + C(sex) + bmi + children + C(smoker) + C(region) + BMI_ind + BMI_ind_smoker', data=df).fit()\n",
    "\n",
    "# New Model\n",
    "new_model = {\n",
    "    \"R-squared\": model_new.rsquared,\n",
    "    \"Adjusted R-squared\": model_new.rsquared_adj,\n",
    "    \"Coefficients\": {\n",
    "        \"Intercept\": model_new.params['Intercept'],\n",
    "        \"Sex (Male)\": model_new.params['C(sex)[T.male]'],\n",
    "        \"Smoker (Yes)\": model_new.params['C(smoker)[T.yes]'],\n",
    "        \"Region (Northwest)\": model_new.params['C(region)[T.northwest]'],\n",
    "        \"Region (Southeast)\": model_new.params['C(region)[T.southeast]'],\n",
    "        \"Region (Southwest)\": model_new.params['C(region)[T.southwest]'],\n",
    "        \"Age\": model_new.params['age'],\n",
    "        \"BMI\": model_new.params['bmi'],\n",
    "        \"Children\": model_new.params['children'],\n",
    "        \"BMI_ind\": model_new.params['BMI_ind'],\n",
    "        \"BMI_ind_smoker\": model_new.params['BMI_ind_smoker']\n",
    "    }\n",
    "}\n",
    "\n",
    "print(\"Model Summary:\")\n",
    "print(f\"R-squared: {new_model['R-squared']:.4f}\")\n",
    "print(f\"Adjusted R-squared: {new_model['Adjusted R-squared']:.4f}\")\n",
    "for key, value in new_model['Coefficients'].items():\n",
    "    print(f\"{key}: {value:.4f}\")\n"
   ],
   "metadata": {
    "collapsed": false,
    "ExecuteTime": {
     "end_time": "2024-04-03T01:42:02.676968Z",
     "start_time": "2024-04-03T01:42:02.615720Z"
    }
   },
   "id": "7449023f9b27e330",
   "execution_count": 13
  },
  {
   "cell_type": "code",
   "outputs": [
    {
     "name": "stdout",
     "output_type": "stream",
     "text": [
      "Being a smoker is on average an increase of $13402.29 annually vs. a non-smoker.\n"
     ]
    }
   ],
   "source": [
    "# TODO: e) (10 pts.) On average how much more expensive is a smoker than a non-smoker patient?\n",
    "\n",
    "# Additional expense of being a smoker \n",
    "additional_smoker_expense = model_new.params['C(smoker)[T.yes]']\n",
    "\n",
    "print(f\"Being a smoker is on average an increase of ${additional_smoker_expense:.2f} annually vs. a non-smoker.\")"
   ],
   "metadata": {
    "collapsed": false,
    "ExecuteTime": {
     "end_time": "2024-04-03T01:43:31.481771Z",
     "start_time": "2024-04-03T01:43:31.474404Z"
    }
   },
   "id": "1e0d06e21c71ef4",
   "execution_count": 16
  },
  {
   "cell_type": "code",
   "outputs": [
    {
     "name": "stdout",
     "output_type": "stream",
     "text": [
      "Total increase in cost for obese smokers compared to non-smokers/not obese: $32333.30\n"
     ]
    }
   ],
   "source": [
    "# TODO: f) (10 pts.) How much more expensive are obese smokers than non-smoker patients that are not obese?\n",
    "# Fit new model\n",
    "model_with_interaction = smf.ols(model_new.params, data=df).fit()\n",
    "\n",
    "# Coefficients/interaction for smoking, obesity\n",
    "coef_with_interaction = model_with_interaction.params\n",
    "coef_smoker_yes = coef_with_interaction[\"C(smoker)[T.yes]\"]\n",
    "coef_BMI_ind = coef_with_interaction[\"BMI_ind\"]\n",
    "coef_BMI_ind_smoker = coef_with_interaction[\"BMI_ind_smoker\"]\n",
    "\n",
    "# Total additional cost for an obese smoker\n",
    "total_cost_obese_smoker = coef_smoker_yes + coef_BMI_ind + coef_BMI_ind_smoker\n",
    "\n",
    "print(f\"Total increase in cost for obese smokers compared to non-smokers/not obese: ${total_cost_obese_smoker:.2f}\")"
   ],
   "metadata": {
    "collapsed": false,
    "ExecuteTime": {
     "end_time": "2024-04-03T01:56:16.502588Z",
     "start_time": "2024-04-03T01:56:16.465579Z"
    }
   },
   "id": "f366899d3941e669",
   "execution_count": 29
  },
  {
   "cell_type": "code",
   "outputs": [],
   "source": [
    "# TODO:  g) (10 pts.) Use the model to predict the expense of the patients in the original dataset. Store those predictions in a vector yhat. Add a column to the dataframe with those predictions. Find and report the correlation of the actual expenses with the predicted expenses.\n"
   ],
   "metadata": {
    "collapsed": false,
    "ExecuteTime": {
     "end_time": "2024-04-03T01:55:18.714155Z",
     "start_time": "2024-04-03T01:55:18.706910Z"
    }
   },
   "id": "1fbd2583b028db5a",
   "execution_count": 28
  },
  {
   "cell_type": "code",
   "outputs": [],
   "source": [
    "# TODO: h) (20 pts.) Make a scatterplot (black color) of the actual expenses (x-axis) and the predicted expenses (y-axis). Add a 45-degree line (red color).\n"
   ],
   "metadata": {
    "collapsed": false
   },
   "id": "76658ec0ee0bc053"
  },
  {
   "cell_type": "code",
   "outputs": [],
   "source": [
    "# TODO: i) (10 pts.) Predict the annual medical expenses of a 30-year old, male, obese, smoker, with two children in the Northeast.\n"
   ],
   "metadata": {
    "collapsed": false
   },
   "id": "8341dbb019f0eae8"
  }
 ],
 "metadata": {
  "kernelspec": {
   "display_name": "Python 3",
   "language": "python",
   "name": "python3"
  },
  "language_info": {
   "codemirror_mode": {
    "name": "ipython",
    "version": 2
   },
   "file_extension": ".py",
   "mimetype": "text/x-python",
   "name": "python",
   "nbconvert_exporter": "python",
   "pygments_lexer": "ipython2",
   "version": "2.7.6"
  }
 },
 "nbformat": 4,
 "nbformat_minor": 5
}
