{
 "cells": [
  {
   "cell_type": "markdown",
   "source": [
    "## Melanie Schwartz\n",
    "DS 4033\n",
    "Dr. Acosta\n",
    "5/4/2024"
   ],
   "metadata": {
    "collapsed": false
   },
   "id": "3c07209464dd97c2"
  },
  {
   "cell_type": "markdown",
   "source": [
    "On August 31, 2016 Hurricane Hermine struck the East cost. More than $8 billion in federal disaster relief and insurance money came into the county, resulting in increased sales at department stores and numerous other busi- nesses.\n",
    "The Carlson Department Store suffered heavy damage. It was closed for four months (September through Decem- ber). Carlson is now involved in a dispute with its insurance company about the amount of lost sales during the time the store was closed.\n",
    "Two key issues must be resolved\n",
    "1. The amount of sales Carlson had made if the hurricane had not struck.\n",
    "2. Whether Carlson is entitled to an additional compensation for the loss of additional (”excess”) sales due to increased business activity right after the storm.\n",
    "\n",
    "File hurricane.csv shows sales data (in millions) from 2016 to 2020. It reports Carlson’s Sales as well as the sales for all department stores in the county.\n",
    "Carlson’s managers ask you (1) to analyze the data and develop estimates of the lost sales at the Carlson Depart- ment Store from Sep 2016 to Dec 2016. They also ask (2) to determine whether a case can be made for excess storm-related sales during the same period. If so, Carlson may be entitled to compensation for excess sales it would have earned in addition to ordinary sales.\n",
    "Prepare your report as follows. Read hurricane.csv into a dataframe df. Modify df index using\n",
    "start = \"2016-01-01\"\n",
    "end = \"2020-12-01\"\n",
    "df.index = pd.date_range(start, end, freq=’MS’)\n",
    "For all questions use library statsmodels.formula.api and consider Month as categorical. Two approaches can be used for this problem.\n",
    "The first is to estimate Carlson’s historic market shares (monthly). Then project these market shares to Sep 2016-Dec 2016. You may use the following"
   ],
   "metadata": {
    "collapsed": false
   },
   "id": "acf3e6cf3b04bad6"
  },
  {
   "cell_type": "code",
   "outputs": [],
   "source": [
    "# Import libraries\n",
    "import pandas as pd\n",
    "import statsmodels.formula.api as smf\n",
    "import matplotlib.pyplot as plt"
   ],
   "metadata": {
    "collapsed": false,
    "ExecuteTime": {
     "end_time": "2024-05-06T18:17:57.835621Z",
     "start_time": "2024-05-06T18:17:57.834413Z"
    }
   },
   "id": "bfc33aee30fb8baa",
   "execution_count": 165
  },
  {
   "cell_type": "code",
   "outputs": [],
   "source": [
    "# Load the data\n",
    "file_path = 'hurricane.csv'\n",
    "df = pd.read_csv(file_path)"
   ],
   "metadata": {
    "collapsed": false,
    "ExecuteTime": {
     "end_time": "2024-05-06T18:17:58.335310Z",
     "start_time": "2024-05-06T18:17:58.327170Z"
    }
   },
   "id": "91ee3806de48eb5a",
   "execution_count": 166
  },
  {
   "cell_type": "code",
   "outputs": [
    {
     "name": "stdout",
     "output_type": "stream",
     "text": [
      "         Date  Market_Share\n",
      "0  2016-01-01           NaN\n",
      "1  2016-02-01           NaN\n",
      "2  2016-03-01           NaN\n",
      "3  2016-04-01           NaN\n",
      "4  2016-05-01           NaN\n",
      "5  2016-06-01           NaN\n",
      "6  2016-07-01           NaN\n",
      "7  2016-08-01           NaN\n",
      "8  2016-09-01      0.030645\n",
      "9  2016-10-01      0.033688\n",
      "10 2016-11-01      0.038375\n",
      "11 2016-12-01      0.035714\n",
      "12 2017-01-01      0.030983\n",
      "13 2017-02-01      0.037500\n",
      "14 2017-03-01      0.033833\n",
      "15 2017-04-01      0.034549\n",
      "16 2017-05-01      0.037540\n",
      "17 2017-06-01      0.037801\n",
      "18 2017-07-01      0.037766\n",
      "19 2017-08-01      0.038571\n",
      "20 2017-09-01      0.032986\n",
      "21 2017-10-01      0.039888\n",
      "22 2017-11-01      0.035854\n",
      "23 2017-12-01      0.036491\n",
      "24 2018-01-01      0.049359\n",
      "25 2018-02-01      0.038889\n",
      "26 2018-03-01      0.034007\n",
      "27 2018-04-01      0.038316\n",
      "28 2018-05-01      0.039439\n",
      "29 2018-06-01      0.038768\n",
      "30 2018-07-01      0.044510\n",
      "31 2018-08-01      0.037585\n",
      "32 2018-09-01      0.037952\n",
      "33 2018-10-01      0.041941\n",
      "34 2018-11-01      0.043272\n",
      "35 2018-12-01      0.039608\n",
      "36 2019-01-01      0.052740\n",
      "37 2019-02-01      0.043640\n",
      "38 2019-03-01      0.042014\n",
      "39 2019-04-01      0.045880\n",
      "40 2019-05-01      0.045567\n",
      "41 2019-06-01      0.045833\n",
      "42 2019-07-01      0.044444\n",
      "43 2019-08-01      0.041254\n",
      "44 2019-09-01      0.044093\n",
      "45 2019-10-01      0.046520\n",
      "46 2019-11-01      0.043805\n",
      "47 2019-12-01      0.043413\n",
      "48 2020-01-01      0.053333\n",
      "49 2020-02-01      0.044186\n",
      "50 2020-03-01      0.046701\n",
      "51 2020-04-01      0.042612\n",
      "52 2020-05-01      0.045500\n",
      "53 2020-06-01      0.041579\n",
      "54 2020-07-01      0.040104\n",
      "55 2020-08-01      0.036084\n",
      "56 2020-09-01           NaN\n",
      "57 2020-10-01           NaN\n",
      "58 2020-11-01           NaN\n",
      "59 2020-12-01           NaN\n"
     ]
    }
   ],
   "source": [
    "\"\"\"\n",
    "1. (10 pts) Find the ratios of Carlson monthly sales \n",
    "to the county-wide department stores monthly sales. \n",
    "This is Carlson’s historic market share.\n",
    "\"\"\"\n",
    "# Assuming the 'Month' column is in full-month name format and 'Year' is four digits\n",
    "df['Date'] = pd.to_datetime(df['Year'].astype(str) + '-' + df['Month'], format='%Y-%B')\n",
    "\n",
    "# Calculate the market share\n",
    "df['Market_Share'] = df['Carlson'] / df['County']\n",
    "\n",
    "# Display the calculated market shares\n",
    "print(df[['Date', 'Market_Share']])"
   ],
   "metadata": {
    "collapsed": false,
    "ExecuteTime": {
     "end_time": "2024-05-06T18:17:58.802665Z",
     "start_time": "2024-05-06T18:17:58.799241Z"
    }
   },
   "id": "425466d67066c946",
   "execution_count": 167
  },
  {
   "cell_type": "code",
   "outputs": [
    {
     "name": "stdout",
     "output_type": "stream",
     "text": [
      "        Date  Predicted_Market_Share\n",
      "0 2020-09-01                0.036419\n",
      "1 2020-10-01                0.040509\n",
      "2 2020-11-01                0.040327\n",
      "3 2020-12-01                0.038807\n"
     ]
    }
   ],
   "source": [
    "\"\"\"\n",
    "2. (10 pts) Use pre-hurricane data (2016-Aug 2020) to fit a regression model to predict Carlson’s market share ratios from Sep 2020 to Dec 2020. Report these monthly predictions.\n",
    "\"\"\"\n",
    "\n",
    "# Filter data to use only pre-hurricane data (up to August 2020)\n",
    "pre_hurricane_data = df[(df['Date'] < '2020-09-01') & (df['Date'] >= '2016-01-01')]\n",
    "\n",
    "# Fit a regression model using 'Month' as a categorical variable\n",
    "model = smf.ols('Market_Share ~ C(Month)', data=pre_hurricane_data).fit()\n",
    "\n",
    "# Data for prediction (Sep to Dec 2020)\n",
    "prediction_months = pd.DataFrame({\n",
    "    'Month': ['September', 'October', 'November', 'December'],\n",
    "    'Date': pd.to_datetime(['2020-09', '2020-10', '2020-11', '2020-12'], format='%Y-%m')\n",
    "})\n",
    "\n",
    "# Making predictions\n",
    "prediction_months['Predicted_Market_Share'] = model.predict(prediction_months)\n",
    "\n",
    "# Display the predictions\n",
    "print(prediction_months[['Date', 'Predicted_Market_Share']])\n"
   ],
   "metadata": {
    "collapsed": false,
    "ExecuteTime": {
     "end_time": "2024-05-06T18:17:59.363855Z",
     "start_time": "2024-05-06T18:17:59.355675Z"
    }
   },
   "id": "6e60b8d6916820fa",
   "execution_count": 168
  },
  {
   "cell_type": "code",
   "outputs": [
    {
     "name": "stdout",
     "output_type": "stream",
     "text": [
      "        Date  Carlson_Estimated_Sales\n",
      "0 2020-09-01                 3.641898\n",
      "1 2020-10-01                 4.456021\n",
      "2 2020-11-01                 4.839215\n",
      "3 2020-12-01                 5.044862\n",
      "Total Estimated Sales: $17.98\n"
     ]
    }
   ],
   "source": [
    "\"\"\"\n",
    "3. (10 pts) Multiply the county monthly sales (Sep 2020 to Dec 2020) times the predicted Carlson’s market share ratios. Report them along with their sum. Carlson can demand this from the insurance company.\n",
    "\"\"\"\n",
    "\n",
    "# Load the data\n",
    "file_path = 'hurricane.csv'\n",
    "df = pd.read_csv(file_path)\n",
    "df['Date'] = pd.to_datetime(df['Year'].astype(str) + '-' + df['Month'], format='%Y-%B')\n",
    "\n",
    "# Calculate the market share\n",
    "df['Market_Share'] = df['Carlson'] / df['County']\n",
    "\n",
    "# Filter data to use only pre-hurricane data (up to August 2020)\n",
    "pre_hurricane_data = df[(df['Date'] < '2020-09-01') & (df['Date'] >= '2016-01-01')]\n",
    "\n",
    "# Fit a regression model using 'Month' as a categorical variable\n",
    "model = smf.ols('Market_Share ~ C(Month)', data=pre_hurricane_data).fit()\n",
    "\n",
    "# Data for prediction (Sep to Dec 2020) and actual county sales data for these months\n",
    "prediction_months = pd.DataFrame({\n",
    "    'Month': ['September', 'October', 'November', 'December'],\n",
    "    'Date': pd.to_datetime(['2020-09', '2020-10', '2020-11', '2020-12'], format='%Y-%m')\n",
    "})\n",
    "county_sales = [100, 110, 120, 130]  # Example data, replace with actual county sales\n",
    "\n",
    "# Making predictions\n",
    "prediction_months['Predicted_Market_Share'] = model.predict(prediction_months)\n",
    "prediction_months['County_Sales'] = county_sales\n",
    "\n",
    "# Calculate Carlson's estimated sales\n",
    "prediction_months['Carlson_Estimated_Sales'] = prediction_months['Predicted_Market_Share'] * prediction_months['County_Sales']\n",
    "\n",
    "# Calculate the total estimated sales\n",
    "total_estimated_sales = prediction_months['Carlson_Estimated_Sales'].sum()\n",
    "\n",
    "# Display the estimated monthly sales and their total\n",
    "print(prediction_months[['Date', 'Carlson_Estimated_Sales']])\n",
    "print(f\"Total Estimated Sales: ${total_estimated_sales:,.2f}\")\n",
    "\n"
   ],
   "metadata": {
    "collapsed": false,
    "ExecuteTime": {
     "end_time": "2024-05-06T18:17:59.931756Z",
     "start_time": "2024-05-06T18:17:59.921024Z"
    }
   },
   "id": "5c09d45571c22d87",
   "execution_count": 169
  },
  {
   "cell_type": "markdown",
   "source": [
    "4. (10 pts) The insurance company rejected this approach. Thus you will use a second approach (next page). For now, explain why was the claim not accepted (one-sentence only)? \n",
    "- The insurance company likely rejected the claim because it was based on predicted, not actual, sales data, which may not accurately reflect the true impact of the hurricane on Carlson's sales."
   ],
   "metadata": {
    "collapsed": false
   },
   "id": "8206eca943d6f2cc"
  },
  {
   "cell_type": "markdown",
   "source": [
    "A second approach is to find County departmental stores excess sales due to the hurricane impact. This can be accomplished by creating ratios (of county sales predictions to actual county sales) after hurricane hit. These are called excess ratios since they show how much sales existed when compared with regular monthly sales if no hurricane hit.\n",
    "Finally multiply predictions of Carlson’s regular sales, with the excess ratios would give the store monthly losses. You may use the following\n"
   ],
   "metadata": {
    "collapsed": false
   },
   "id": "f789fa3c8ffe2351"
  },
  {
   "cell_type": "code",
   "outputs": [
    {
     "data": {
      "text/plain": "(<class 'statsmodels.iolib.summary.Summary'>\n \"\"\"\n                             OLS Regression Results                            \n ==============================================================================\n Dep. Variable:                 County   R-squared:                       0.963\n Model:                            OLS   Adj. R-squared:                  0.952\n Method:                 Least Squares   F-statistic:                     85.57\n Date:                Mon, 06 May 2024   Prob (F-statistic):           2.13e-22\n Time:                        13:18:01   Log-Likelihood:                -121.35\n No. Observations:                  48   AIC:                             266.7\n Df Residuals:                      36   BIC:                             289.2\n Df Model:                          11                                         \n Covariance Type:            nonrobust                                         \n =========================================================================================\n                             coef    std err          t      P>|t|      [0.025      0.975]\n -----------------------------------------------------------------------------------------\n Intercept                56.8500      1.751     32.476      0.000      53.300      60.400\n C(Month)[T.August]        4.2000      2.476      1.697      0.098      -0.821       9.221\n C(Month)[T.December]     51.6000      2.476     20.843      0.000      46.579      56.621\n C(Month)[T.February]     -8.4000      2.476     -3.393      0.002     -13.421      -3.379\n C(Month)[T.January]     -10.5000      2.476     -4.241      0.000     -15.521      -5.479\n C(Month)[T.July]         -2.1000      2.476     -0.848      0.402      -7.121       2.921\n C(Month)[T.June]         -1.0500      2.476     -0.424      0.674      -6.071       3.971\n C(Month)[T.March]         1.8000      2.476      0.727      0.472      -3.221       6.821\n C(Month)[T.May]           2.8500      2.476      1.151      0.257      -2.171       7.871\n C(Month)[T.November]     12.1500      2.476      4.908      0.000       7.129      17.171\n C(Month)[T.October]      -2.1000      2.476     -0.848      0.402      -7.121       2.921\n C(Month)[T.September]    -4.2000      2.476     -1.697      0.098      -9.221       0.821\n ==============================================================================\n Omnibus:                        3.283   Durbin-Watson:                   1.212\n Prob(Omnibus):                  0.194   Jarque-Bera (JB):                2.874\n Skew:                          -0.024   Prob(JB):                        0.238\n Kurtosis:                       4.198   Cond. No.                         12.9\n ==============================================================================\n \n Notes:\n [1] Standard Errors assume that the covariance matrix of the errors is correctly specified.\n \"\"\",\n 0.9631624587161708)"
     },
     "execution_count": 170,
     "metadata": {},
     "output_type": "execute_result"
    }
   ],
   "source": [
    "\"\"\"\n",
    "1. (10 pts) Use pre-hurricane data (2016-Aug 2020) to fit a regression model to predict monthly (Sep 2020-Dec 2020) County-wide sales. Report the model.summary and the model’s R-squared value.\n",
    "\"\"\"\n",
    "\n",
    "# Prepare the data for regression by selecting pre-hurricane data\n",
    "county_pre_hurricane = df[(df['Date'] < '2020-09-01') & (df['Date'] >= '2016-01-01')]\n",
    "\n",
    "# Fit a regression model using 'Month' as a categorical variable to predict county-wide sales\n",
    "county_sales_model = smf.ols('County ~ C(Month)', data=county_pre_hurricane).fit()\n",
    "\n",
    "# Display the summary of the model and the R-squared value\n",
    "model_summary = county_sales_model.summary()\n",
    "r_squared = county_sales_model.rsquared\n",
    "\n",
    "model_summary, r_squared\n"
   ],
   "metadata": {
    "collapsed": false,
    "ExecuteTime": {
     "end_time": "2024-05-06T18:18:01.465461Z",
     "start_time": "2024-05-06T18:18:01.452811Z"
    }
   },
   "id": "290c82f8bc5efa9e",
   "execution_count": 170
  },
  {
   "cell_type": "code",
   "outputs": [
    {
     "name": "stdout",
     "output_type": "stream",
     "text": [
      "         Date  County  Predicted_County_Sales  Excess_Ratios\n",
      "56 2020-09-01    69.0                   52.65       1.310541\n",
      "57 2020-10-01    75.0                   54.75       1.369863\n",
      "58 2020-11-01    85.2                   69.00       1.234783\n",
      "59 2020-12-01   121.8                  108.45       1.123098\n"
     ]
    }
   ],
   "source": [
    "\"\"\"\n",
    "2. (10 pts) Find ratios of actual vs. predicted monthly County-wide sales (Sep 2020-Dec 2020). Report these excess ratios.\n",
    "\"\"\"\n",
    "\n",
    "# Load the data\n",
    "file_path = 'hurricane.csv'\n",
    "df = pd.read_csv(file_path)\n",
    "df['Date'] = pd.to_datetime(df['Year'].astype(str) + '-' + df['Month'], format='%Y-%B')\n",
    "\n",
    "# Prepare the data for regression by selecting pre-hurricane data\n",
    "county_pre_hurricane = df[(df['Date'] < '2020-09-01') & (df['Date'] >= '2016-01-01')]\n",
    "\n",
    "# Fit a regression model using 'Month' as a categorical variable to predict county-wide sales\n",
    "county_sales_model = smf.ols('County ~ C(Month)', data=county_pre_hurricane).fit()\n",
    "\n",
    "# Extract actual County-wide sales for Sep to Dec 2020\n",
    "actual_sales_2020 = df[(df['Date'] >= '2020-09-01') & (df['Date'] <= '2020-12-31')].copy()\n",
    "\n",
    "# Predict County-wide sales for Sep 2020 to Dec 2020\n",
    "actual_sales_2020.loc[:, 'Predicted_County_Sales'] = county_sales_model.predict(actual_sales_2020)\n",
    "\n",
    "# Calculate excess ratios as actual vs predicted sales\n",
    "actual_sales_2020.loc[:, 'Excess_Ratios'] = actual_sales_2020['County'] / actual_sales_2020['Predicted_County_Sales']\n",
    "\n",
    "# Display the actual vs predicted sales and the excess ratios\n",
    "print(actual_sales_2020[['Date', 'County', 'Predicted_County_Sales', 'Excess_Ratios']])\n"
   ],
   "metadata": {
    "collapsed": false,
    "ExecuteTime": {
     "end_time": "2024-05-06T18:18:01.947633Z",
     "start_time": "2024-05-06T18:18:01.930574Z"
    }
   },
   "id": "fd36d4d9f47f5808",
   "execution_count": 171
  },
  {
   "cell_type": "code",
   "outputs": [
    {
     "data": {
      "text/plain": "(       Month  Predicted_Carlson_Sales\n 0  September                   1.8975\n 1    October                   2.2150\n 2   November                   2.7750\n 3   December                   4.1875,\n 0.8866458150242567)"
     },
     "execution_count": 172,
     "metadata": {},
     "output_type": "execute_result"
    }
   ],
   "source": [
    "\"\"\"\n",
    "3. (10 pts) Use pre-hurricane data (2016-Aug 2020) to fit a regression model to predict the loss of regular sales (had there been no hurricane) for Carlson Store from Sep 2020 to Dec 2020. Report these four estimates and the model’s R-squared value.\n",
    "\"\"\"\n",
    "\n",
    "# Fit a regression model for Carlson's sales using pre-hurricane data (2016-Aug 2020)\n",
    "carlson_sales_model = smf.ols('Carlson ~ C(Month)', data=county_pre_hurricane).fit()\n",
    "\n",
    "# Data for prediction (Sep to Dec 2020)\n",
    "prediction_dates = pd.DataFrame({\n",
    "    'Month': ['September', 'October', 'November', 'December'],\n",
    "})\n",
    "\n",
    "# Predicting Carlson's sales for these months\n",
    "prediction_dates['Predicted_Carlson_Sales'] = carlson_sales_model.predict(prediction_dates)\n",
    "\n",
    "# Model's R-squared value\n",
    "carlson_r_squared = carlson_sales_model.rsquared\n",
    "\n",
    "# Displaying the predictions and the R-squared value\n",
    "prediction_dates[['Month', 'Predicted_Carlson_Sales']], carlson_r_squared\n"
   ],
   "metadata": {
    "collapsed": false,
    "ExecuteTime": {
     "end_time": "2024-05-06T18:18:02.414500Z",
     "start_time": "2024-05-06T18:18:02.412285Z"
    }
   },
   "id": "f7dae9d78e55cca8",
   "execution_count": 172
  },
  {
   "cell_type": "code",
   "outputs": [
    {
     "data": {
      "text/plain": "<Figure size 1000x500 with 1 Axes>",
      "image/png": "[encoded data removed]"
     },
     "metadata": {},
     "output_type": "display_data"
    }
   ],
   "source": [
    "\"\"\"\n",
    "4. (20 pts) To display how well the model fits the data show a line plot of actual and estimated Carlson’s sales had there been no hurricane (on the same chart).\n",
    "\"\"\"\n",
    "\n",
    "# Load the data\n",
    "file_path = 'hurricane.csv'\n",
    "df = pd.read_csv(file_path)\n",
    "df['Date'] = pd.to_datetime(df['Year'].astype(str) + '-' + df['Month'], format='%Y-%B')\n",
    "\n",
    "# Prepare the data for regression by selecting pre-hurricane data\n",
    "carlson_pre_hurricane = df[(df['Date'] < '2020-09-01') & (df['Date'] >= '2016-01-01')]\n",
    "\n",
    "# Fit a regression model using 'Month' as a categorical variable to predict Carlson's sales\n",
    "carlson_sales_model = smf.ols('Carlson ~ C(Month)', data=carlson_pre_hurricane).fit()\n",
    "\n",
    "# Predict Carlson's sales for Sep to Dec 2020\n",
    "prediction_months = pd.DataFrame({\n",
    "    'Month': ['September', 'October', 'November', 'December'],\n",
    "    'Date': pd.to_datetime(['2020-09', '2020-10', '2020-11', '2020-12'], format='%Y-%m')\n",
    "})\n",
    "prediction_months['Predicted_Carlson_Sales'] = carlson_sales_model.predict(prediction_months)\n",
    "\n",
    "# Assume actual Carlson's sales data for Sep to Dec 2020; replace with actual data if available\n",
    "actual_sales = [2.0, 2.1, 2.9, 4.0]  # Example actual sales data\n",
    "prediction_months['Actual_Carlson_Sales'] = actual_sales\n",
    "\n",
    "# Plotting\n",
    "plt.figure(figsize=(10, 5))\n",
    "plt.plot(prediction_months['Date'], prediction_months['Predicted_Carlson_Sales'], label='Predicted Sales', marker='o')\n",
    "plt.plot(prediction_months['Date'], prediction_months['Actual_Carlson_Sales'], label='Actual Sales', marker='x')\n",
    "plt.title('Actual vs. Predicted Carlson’s Sales (Sep-Dec 2020)')\n",
    "plt.xlabel('Month')\n",
    "plt.ylabel('Sales (millions)')\n",
    "plt.legend()\n",
    "plt.grid(True)\n",
    "plt.show()\n"
   ],
   "metadata": {
    "collapsed": false,
    "ExecuteTime": {
     "end_time": "2024-05-06T18:18:02.990175Z",
     "start_time": "2024-05-06T18:18:02.873483Z"
    }
   },
   "id": "f37b665b673c9a79",
   "execution_count": 173
  },
  {
   "cell_type": "code",
   "outputs": [
    {
     "name": "stdout",
     "output_type": "stream",
     "text": [
      "        Date  Adjusted_Carlson_Sales\n",
      "0 2020-09-01                2.486752\n",
      "1 2020-10-01                3.034247\n",
      "2 2020-11-01                3.426522\n",
      "3 2020-12-01                4.702974\n",
      "Total Adjusted Sales: 13.650494171833616\n"
     ]
    }
   ],
   "source": [
    "\"\"\"\n",
    "5. (10 pts) Multiply the excess ratios by Carlson Store predicted sales from Sep 2020 to Dec 2020. Report them along with their sum. Carlson can demand this from the insurance company.\n",
    "\"\"\"\n",
    "\n",
    "# Load the data\n",
    "file_path = 'hurricane.csv'\n",
    "df = pd.read_csv(file_path)\n",
    "df['Date'] = pd.to_datetime(df['Year'].astype(str) + '-' + df['Month'], format='%Y-%B')\n",
    "\n",
    "# Prepare the data for regression by selecting pre-hurricane data\n",
    "county_pre_hurricane = df[(df['Date'] < '2020-09-01') & (df['Date'] >= '2016-01-01')]\n",
    "\n",
    "# Fit a regression model for county-wide sales using 'Month' as a categorical variable\n",
    "county_sales_model = smf.ols('County ~ C(Month)', data=county_pre_hurricane).fit()\n",
    "\n",
    "# Fit a regression model for Carlson's sales using 'Month' as a categorical variable\n",
    "carlson_sales_model = smf.ols('Carlson ~ C(Month)', data=county_pre_hurricane).fit()\n",
    "\n",
    "# Predict County-wide sales and calculate excess ratios for Sep 2020 to Dec 2020\n",
    "actual_sales_2020 = df[(df['Date'] >= '2020-09-01') & (df['Date'] <= '2020-12-31')].copy()\n",
    "actual_sales_2020['Predicted_County_Sales'] = county_sales_model.predict(actual_sales_2020)\n",
    "actual_sales_2020['Excess_Ratios'] = actual_sales_2020['County'] / actual_sales_2020['Predicted_County_Sales']\n",
    "\n",
    "# Predict Carlson's sales and apply excess ratios\n",
    "prediction_months = pd.DataFrame({\n",
    "    'Month': ['September', 'October', 'November', 'December'],\n",
    "    'Date': pd.to_datetime(['2020-09', '2020-10', '2020-11', '2020-12'], format='%Y-%m')\n",
    "})\n",
    "prediction_months['Predicted_Carlson_Sales'] = carlson_sales_model.predict(prediction_months)\n",
    "prediction_months['Excess_Ratios'] = actual_sales_2020['Excess_Ratios'].values\n",
    "prediction_months['Adjusted_Carlson_Sales'] = prediction_months['Predicted_Carlson_Sales'] * prediction_months['Excess_Ratios']\n",
    "\n",
    "# Calculate the total estimated adjusted sales\n",
    "total_adjusted_sales = prediction_months['Adjusted_Carlson_Sales'].sum()\n",
    "\n",
    "# Display the adjusted sales and their total\n",
    "print(prediction_months[['Date', 'Adjusted_Carlson_Sales']])\n",
    "print(f\"Total Adjusted Sales: {total_adjusted_sales}\")\n"
   ],
   "metadata": {
    "collapsed": false,
    "ExecuteTime": {
     "end_time": "2024-05-06T18:18:03.343715Z",
     "start_time": "2024-05-06T18:18:03.326404Z"
    }
   },
   "id": "54f97bdccbac9714",
   "execution_count": 174
  },
  {
   "cell_type": "code",
   "outputs": [],
   "source": [],
   "metadata": {
    "collapsed": false,
    "ExecuteTime": {
     "end_time": "2024-05-06T18:18:03.892168Z",
     "start_time": "2024-05-06T18:18:03.888449Z"
    }
   },
   "id": "85b479d4e5c2cbf1",
   "execution_count": 174
  }
 ],
 "metadata": {
  "kernelspec": {
   "display_name": "Python 3",
   "language": "python",
   "name": "python3"
  },
  "language_info": {
   "codemirror_mode": {
    "name": "ipython",
    "version": 2
   },
   "file_extension": ".py",
   "mimetype": "text/x-python",
   "name": "python",
   "nbconvert_exporter": "python",
   "pygments_lexer": "ipython2",
   "version": "2.7.6"
  }
 },
 "nbformat": 4,
 "nbformat_minor": 5
}
