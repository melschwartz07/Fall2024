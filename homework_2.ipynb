{
 "cells": [
  {
   "cell_type": "code",
   "execution_count": 2,
   "id": "initial_id",
   "metadata": {
    "collapsed": true,
    "ExecuteTime": {
     "end_time": "2024-03-26T22:53:37.050789Z",
     "start_time": "2024-03-26T22:53:37.020057Z"
    }
   },
   "outputs": [
    {
     "name": "stdout",
     "output_type": "stream",
     "text": [
      "Estimated increase in average price for each additional bedroom: $57247.87\n"
     ]
    }
   ],
   "source": [
    "import pandas as pd\n",
    "from sklearn.model_selection import train_test_split\n",
    "from sklearn.linear_model import LinearRegression\n",
    "\n",
    "# Load the dataset\n",
    "df = pd.read_csv('homes.csv')\n",
    "\n",
    "# Selecting the predictor (number of bedrooms) and the target variable (home price)\n",
    "X = df[['beds']]  # Predictor\n",
    "y = df['price']   # Target\n",
    "\n",
    "# Splitting the dataset into training and testing sets\n",
    "X_train, X_test, y_train, y_test = train_test_split(X, y, test_size=0.2, random_state=42)\n",
    "\n",
    "# Building the linear regression model\n",
    "model = LinearRegression()\n",
    "model.fit(X_train, y_train)\n",
    "\n",
    "# Extracting the coefficient for the number of bedrooms\n",
    "bedroom_coefficient = model.coef_[0]\n",
    "\n",
    "# Display the estimated increase in average price for each additional bedroom\n",
    "print(f'Estimated increase in average price for each additional bedroom: ${bedroom_coefficient:.2f}')\n"
   ]
  },
  {
   "cell_type": "code",
   "outputs": [
    {
     "name": "stdout",
     "output_type": "stream",
     "text": [
      "Estimated change in average price for each additional bedroom: $-7310.21\n"
     ]
    }
   ],
   "source": [
    "import pandas as pd\n",
    "from sklearn.model_selection import train_test_split\n",
    "from sklearn.linear_model import LinearRegression\n",
    "\n",
    "# Load the dataset\n",
    "df = pd.read_csv('homes.csv')\n",
    "\n",
    "# Selecting multiple predictors for the MLR model\n",
    "X_mlr = df[['lotsize', 'area', 'beds', 'baths', 'garage']]\n",
    "y_mlr = df['price']\n",
    "\n",
    "# Splitting the dataset into training and testing sets for the MLR model\n",
    "X_train_mlr, X_test_mlr, y_train_mlr, y_test_mlr = train_test_split(X_mlr, y_mlr, test_size=0.2, random_state=42)\n",
    "\n",
    "# Building the MLR model\n",
    "model_mlr = LinearRegression()\n",
    "model_mlr.fit(X_train_mlr, y_train_mlr)\n",
    "\n",
    "# Extracting the coefficient for the number of bedrooms within the MLR model\n",
    "bedroom_coefficient_mlr = model_mlr.coef_[2]\n",
    "\n",
    "# Display the estimated change in average price for each additional bedroom\n",
    "print(f'Estimated change in average price for each additional bedroom: ${bedroom_coefficient_mlr:.2f}')\n"
   ],
   "metadata": {
    "collapsed": false,
    "ExecuteTime": {
     "end_time": "2024-03-26T22:59:14.135559Z",
     "start_time": "2024-03-26T22:59:14.106576Z"
    }
   },
   "id": "17d309864023b101",
   "execution_count": 3
  },
  {
   "cell_type": "code",
   "outputs": [
    {
     "name": "stdout",
     "output_type": "stream",
     "text": [
      "The predicted price of the house is: $323638.80\n"
     ]
    },
    {
     "name": "stderr",
     "output_type": "stream",
     "text": [
      "/Users/melanieschwartz/DS4023/Spring2024/.venv/lib/python3.10/site-packages/sklearn/base.py:493: UserWarning: X does not have valid feature names, but LinearRegression was fitted with feature names\n",
      "  warnings.warn(\n"
     ]
    }
   ],
   "source": [
    "import pandas as pd\n",
    "from sklearn.model_selection import train_test_split\n",
    "from sklearn.linear_model import LinearRegression\n",
    "\n",
    "# Load the dataset\n",
    "df = pd.read_csv('homes.csv')\n",
    "\n",
    "# Selecting multiple predictors for the MLR model\n",
    "X_mlr = df[['lotsize', 'area', 'beds', 'baths', 'garage']]\n",
    "y_mlr = df['price']\n",
    "\n",
    "# Splitting the dataset into training and testing sets for the MLR model\n",
    "X_train_mlr, X_test_mlr, y_train_mlr, y_test_mlr = train_test_split(X_mlr, y_mlr, test_size=0.2, random_state=42)\n",
    "\n",
    "# Building the MLR model\n",
    "model_mlr = LinearRegression()\n",
    "model_mlr.fit(X_train_mlr, y_train_mlr)\n",
    "\n",
    "# House features for prediction: lot size = 24500 sqft, area = 2650 sqft, beds = 3, baths = 3, garage = 2\n",
    "house_features = [[24500, 2650, 3, 3, 2]]\n",
    "\n",
    "# Predicting the price of the house with the given features\n",
    "predicted_price = model_mlr.predict(house_features)\n",
    "\n",
    "# Display the predicted price\n",
    "print(f'The predicted price of the house is: ${predicted_price[0]:.2f}')\n"
   ],
   "metadata": {
    "collapsed": false,
    "ExecuteTime": {
     "end_time": "2024-03-26T23:00:36.224219Z",
     "start_time": "2024-03-26T23:00:36.205022Z"
    }
   },
   "id": "90dfd9e6c47b20bf",
   "execution_count": 4
  },
  {
   "cell_type": "code",
   "outputs": [
    {
     "name": "stdout",
     "output_type": "stream",
     "text": [
      "First five patients (before transformation):\n",
      "   age     sex   bmi  children smoker  expenses\n",
      "0   19  female  27.9         0    yes  16884.92\n",
      "1   18    male  33.8         1     no   1725.55\n",
      "2   28    male  33.0         3     no   4449.46\n",
      "3   33    male  22.7         0     no  21984.47\n",
      "4   32    male  28.9         0     no   3866.86\n",
      "\n",
      "First five patients (after transformation):\n",
      "   age   bmi  children  expenses  sex_male  smoker_yes\n",
      "0   19  27.9         0  16884.92     False        True\n",
      "1   18  33.8         1   1725.55      True       False\n",
      "2   28  33.0         3   4449.46      True       False\n",
      "3   33  22.7         0  21984.47      True       False\n",
      "4   32  28.9         0   3866.86      True       False\n"
     ]
    }
   ],
   "source": [
    "import pandas as pd\n",
    "\n",
    "# Load the dataset\n",
    "df_insurance = pd.read_csv('insurance.csv')\n",
    "\n",
    "# Display the first five patients from the loaded dataset\n",
    "print(\"First five patients (before transformation):\")\n",
    "print(df_insurance.head())\n",
    "\n",
    "# Transform the categorical variables 'sex' and 'smoker' to numeric (0/1)\n",
    "df2 = pd.get_dummies(df_insurance, columns=['sex', 'smoker'], drop_first=True)\n",
    "\n",
    "# Display the first five patients after transformation\n",
    "print(\"\\nFirst five patients (after transformation):\")\n",
    "print(df2.head())\n"
   ],
   "metadata": {
    "collapsed": false,
    "ExecuteTime": {
     "end_time": "2024-03-26T23:08:09.500335Z",
     "start_time": "2024-03-26T23:08:09.482810Z"
    }
   },
   "id": "48836c26c94b61d0",
   "execution_count": 6
  },
  {
   "cell_type": "code",
   "outputs": [
    {
     "name": "stdout",
     "output_type": "stream",
     "text": [
      "R-squared: 0.781\n",
      "Adjusted R-squared: 0.777\n"
     ]
    }
   ],
   "source": [
    "import pandas as pd\n",
    "from sklearn.model_selection import train_test_split\n",
    "from sklearn.linear_model import LinearRegression\n",
    "from sklearn.metrics import r2_score\n",
    "\n",
    "# Load the dataset\n",
    "df_insurance = pd.read_csv('insurance.csv')\n",
    "\n",
    "# Transform the categorical variables 'sex' and 'smoker' to numeric (0/1)\n",
    "df2 = pd.get_dummies(df_insurance, columns=['sex', 'smoker'], drop_first=True)\n",
    "\n",
    "# Define the predictors and the target variable\n",
    "X = df2[['age', 'bmi', 'children', 'sex_male', 'smoker_yes']]\n",
    "y = df2['expenses']\n",
    "\n",
    "# Split the dataset into training and testing sets\n",
    "X_train, X_test, y_train, y_test = train_test_split(X, y, test_size=0.2, random_state=42)\n",
    "\n",
    "# Build the linear regression model\n",
    "model = LinearRegression()\n",
    "model.fit(X_train, y_train)\n",
    "\n",
    "# Predict the expenses on the testing set\n",
    "y_pred = model.predict(X_test)\n",
    "\n",
    "# Calculate R-squared\n",
    "r_squared = r2_score(y_test, y_pred)\n",
    "\n",
    "# Calculate Adjusted R-squared\n",
    "n = len(y_test)  # Number of observations\n",
    "p = X_train.shape[1]  # Number of predictors\n",
    "adjusted_r_squared = 1 - ((1 - r_squared) * (n - 1) / (n - p - 1))\n",
    "\n",
    "print(f'R-squared: {r_squared:.3f}')\n",
    "print(f'Adjusted R-squared: {adjusted_r_squared:.3f}')\n"
   ],
   "metadata": {
    "collapsed": false,
    "ExecuteTime": {
     "end_time": "2024-03-26T23:09:35.890109Z",
     "start_time": "2024-03-26T23:09:35.855157Z"
    }
   },
   "id": "9ac667d01a85b9f6",
   "execution_count": 7
  },
  {
   "cell_type": "code",
   "outputs": [
    {
     "name": "stdout",
     "output_type": "stream",
     "text": [
      "   age   bmi  children  expenses  sex_male  smoker_yes  BMI_ind\n",
      "0   19  27.9         0  16884.92     False        True        0\n",
      "1   18  33.8         1   1725.55      True       False        1\n",
      "2   28  33.0         3   4449.46      True       False        1\n",
      "3   33  22.7         0  21984.47      True       False        0\n",
      "4   32  28.9         0   3866.86      True       False        0\n"
     ]
    }
   ],
   "source": [
    "import pandas as pd\n",
    "from sklearn.model_selection import train_test_split\n",
    "from sklearn.linear_model import LinearRegression\n",
    "\n",
    "# Load the dataset\n",
    "df_insurance = pd.read_csv('insurance.csv')\n",
    "\n",
    "# Transform the categorical variables 'sex' and 'smoker' to numeric (0/1)\n",
    "df2 = pd.get_dummies(df_insurance, columns=['sex', 'smoker'], drop_first=True)\n",
    "\n",
    "# Creating a binary variable BMI_ind equal to 1 if the patient's BMI is at least 30, and 0 otherwise\n",
    "df2['BMI_ind'] = df2.bmi >= 30\n",
    "# Converting the boolean values to integers\n",
    "df2['BMI_ind'] = df2['BMI_ind'].astype(int)\n",
    "\n",
    "# Display the first five rows of the DataFrame to verify the addition of BMI_ind\n",
    "print(df2.head())\n",
    "# \n",
    "# # (Optional) Following steps could be for building a regression model, for example\n",
    "# # Define the predictors and the target variable\n",
    "# X = df2[['age', 'bmi', 'children', 'sex_male', 'smoker_yes', 'BMI_ind']]\n",
    "# y = df2['expenses']\n",
    "# \n",
    "# # Split the dataset into training and testing sets\n",
    "# X_train, X_test, y_train, y_test = train_test_split(X, y, test_size=0.2, random_state=42)\n",
    "# \n",
    "# # Build the linear regression model\n",
    "# model = LinearRegression()\n",
    "# model.fit(X_train, y_train)\n",
    "# \n",
    "# # Predict the expenses on the testing set and calculate performance metrics (as needed)\n"
   ],
   "metadata": {
    "collapsed": false,
    "ExecuteTime": {
     "end_time": "2024-03-26T23:13:42.251512Z",
     "start_time": "2024-03-26T23:13:42.221029Z"
    }
   },
   "id": "bbb8795d2fe5de6a",
   "execution_count": 9
  },
  {
   "cell_type": "code",
   "outputs": [
    {
     "name": "stdout",
     "output_type": "stream",
     "text": [
      "   age   bmi  children  expenses  sex_male  smoker_yes  BMI_ind  \\\n",
      "0   19  27.9         0  16884.92     False        True        0   \n",
      "1   18  33.8         1   1725.55      True       False        1   \n",
      "2   28  33.0         3   4449.46      True       False        1   \n",
      "3   33  22.7         0  21984.47      True       False        0   \n",
      "4   32  28.9         0   3866.86      True       False        0   \n",
      "\n",
      "   BMI_ind_smoker  \n",
      "0               0  \n",
      "1               0  \n",
      "2               0  \n",
      "3               0  \n",
      "4               0  \n"
     ]
    }
   ],
   "source": [
    "import pandas as pd\n",
    "from sklearn.model_selection import train_test_split\n",
    "from sklearn.linear_model import LinearRegression\n",
    "\n",
    "# Load the dataset\n",
    "df_insurance = pd.read_csv('insurance.csv')\n",
    "\n",
    "# Transform the categorical variables 'sex' and 'smoker' to numeric (0/1)\n",
    "df2 = pd.get_dummies(df_insurance, columns=['sex', 'smoker'], drop_first=True)\n",
    "\n",
    "# Creating a binary variable BMI_ind equal to 1 if the patient's BMI is at least 30, and 0 otherwise\n",
    "df2['BMI_ind'] = (df2.bmi >= 30).astype(int)\n",
    "\n",
    "# Creating an interaction variable for BMI_ind and smoker_yes\n",
    "df2['BMI_ind_smoker'] = df2['BMI_ind'] * df2['smoker_yes']\n",
    "\n",
    "# Display the first five rows of the DataFrame to confirm the additions\n",
    "print(df2.head())\n",
    "\n",
    "# # (Optional) Following steps could be for building and evaluating a regression model\n",
    "# # Define the predictors including the interaction term and the target variable\n",
    "# X = df2[['age', 'bmi', 'children', 'sex_male', 'smoker_yes', 'BMI_ind', 'BMI_ind_smoker']]\n",
    "# y = df2['expenses']\n",
    "# \n",
    "# # Split the dataset into training and testing sets\n",
    "# X_train, X_test, y_train, y_test = train_test_split(X, y, test_size=0.2, random_state=42)\n",
    "# \n",
    "# # Build the linear regression model\n",
    "# model = LinearRegression()\n",
    "# model.fit(X_train, y_train)\n",
    "# \n",
    "# # (Optional) Predict the expenses on the testing set and calculate performance metrics\n"
   ],
   "metadata": {
    "collapsed": false,
    "ExecuteTime": {
     "end_time": "2024-03-26T23:14:17.673423Z",
     "start_time": "2024-03-26T23:14:17.631309Z"
    }
   },
   "id": "fa409b4f1fbead7f",
   "execution_count": 11
  },
  {
   "cell_type": "code",
   "outputs": [
    {
     "name": "stdout",
     "output_type": "stream",
     "text": [
      "R-squared: 0.873\n",
      "Adjusted R-squared: 0.870\n"
     ]
    }
   ],
   "source": [
    "import pandas as pd\n",
    "from sklearn.model_selection import train_test_split\n",
    "from sklearn.linear_model import LinearRegression\n",
    "from sklearn.metrics import r2_score\n",
    "\n",
    "# Load the dataset\n",
    "df_insurance = pd.read_csv('insurance.csv')\n",
    "\n",
    "# Transform the categorical variables 'sex' and 'smoker' to numeric (0/1)\n",
    "df2 = pd.get_dummies(df_insurance, columns=['sex', 'smoker'], drop_first=True)\n",
    "\n",
    "# Creating a binary variable BMI_ind equal to 1 if the patient's BMI is at least 30, and 0 otherwise\n",
    "df2['BMI_ind'] = (df2.bmi >= 30).astype(int)\n",
    "\n",
    "# Creating an interaction variable for BMI_ind and smoker_yes\n",
    "df2['BMI_ind_smoker'] = df2['BMI_ind'] * df2['smoker_yes']\n",
    "\n",
    "# Define the predictors including the new interaction term and the target variable\n",
    "X = df2[['age', 'bmi', 'children', 'sex_male', 'smoker_yes', 'BMI_ind', 'BMI_ind_smoker']]\n",
    "y = df2['expenses']\n",
    "\n",
    "# Split the dataset into training and testing sets\n",
    "X_train, X_test, y_train, y_test = train_test_split(X, y, test_size=0.2, random_state=42)\n",
    "\n",
    "# Build the linear regression model\n",
    "model = LinearRegression()\n",
    "model.fit(X_train, y_train)\n",
    "\n",
    "# Predict the expenses on the testing set\n",
    "y_pred = model.predict(X_test)\n",
    "\n",
    "# Calculate R-squared and Adjusted R-squared\n",
    "r_squared = r2_score(y_test, y_pred)\n",
    "n = len(y_test)  # Number of observations\n",
    "p = X_train.shape[1]  # Number of predictors\n",
    "adjusted_r_squared = 1 - ((1 - r_squared) * (n - 1) / (n - p - 1))\n",
    "\n",
    "print(f'R-squared: {r_squared:.3f}')\n",
    "print(f'Adjusted R-squared: {adjusted_r_squared:.3f}')\n"
   ],
   "metadata": {
    "collapsed": false,
    "ExecuteTime": {
     "end_time": "2024-03-26T23:16:04.187506Z",
     "start_time": "2024-03-26T23:16:04.166206Z"
    }
   },
   "id": "128be2b432380124",
   "execution_count": 12
  },
  {
   "cell_type": "code",
   "outputs": [],
   "source": [],
   "metadata": {
    "collapsed": false
   },
   "id": "8f3a2f0346575681"
  }
 ],
 "metadata": {
  "kernelspec": {
   "display_name": "Python 3",
   "language": "python",
   "name": "python3"
  },
  "language_info": {
   "codemirror_mode": {
    "name": "ipython",
    "version": 2
   },
   "file_extension": ".py",
   "mimetype": "text/x-python",
   "name": "python",
   "nbconvert_exporter": "python",
   "pygments_lexer": "ipython2",
   "version": "2.7.6"
  }
 },
 "nbformat": 4,
 "nbformat_minor": 5
}
